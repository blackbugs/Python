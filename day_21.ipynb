{
 "cells": [
  {
   "cell_type": "code",
   "execution_count": 4,
   "metadata": {},
   "outputs": [
    {
     "name": "stdout",
     "output_type": "stream",
     "text": [
      "Bmw\n",
      "Audi\n",
      "JAGUAR\n",
      "Mahindra\n",
      "Hyundai\n"
     ]
    }
   ],
   "source": [
    "#if else\n",
    "\n",
    "cars=['bmw','audi','jaguar','mahindra','hyundai']\n",
    "for car in cars:\n",
    "    if car == 'jaguar':\n",
    "        print(car.upper())\n",
    "    else:\n",
    "        print(car.title())"
   ]
  },
  {
   "cell_type": "code",
   "execution_count": 6,
   "metadata": {},
   "outputs": [
    {
     "name": "stdout",
     "output_type": "stream",
     "text": [
      "Set Wet\n",
      "Fogg\n",
      "Nivea\n",
      "WILD STONE\n"
     ]
    }
   ],
   "source": [
    "#if else example 1\n",
    "\n",
    "deos=['set wet','fogg','nivea','wild stone']\n",
    "\n",
    "for deo in deos:\n",
    "    if deo =='wild stone':\n",
    "        print(deo.upper())\n",
    "    else:\n",
    "        print(deo.title())"
   ]
  },
  {
   "cell_type": "code",
   "execution_count": 7,
   "metadata": {},
   "outputs": [
    {
     "name": "stdout",
     "output_type": "stream",
     "text": [
      "Sorry, car isnt available.\n"
     ]
    }
   ],
   "source": [
    "#if else ex 2\n",
    "\n",
    "cars = 'audi'\n",
    "\n",
    "if car != 'bmw':\n",
    "    print('Sorry, car isnt available.')"
   ]
  },
  {
   "cell_type": "code",
   "execution_count": 8,
   "metadata": {},
   "outputs": [
    {
     "data": {
      "text/plain": [
       "True"
      ]
     },
     "execution_count": 8,
     "metadata": {},
     "output_type": "execute_result"
    }
   ],
   "source": [
    "age=19\n",
    "age==19"
   ]
  },
  {
   "cell_type": "code",
   "execution_count": 10,
   "metadata": {},
   "outputs": [
    {
     "data": {
      "text/plain": [
       "True"
      ]
     },
     "execution_count": 10,
     "metadata": {},
     "output_type": "execute_result"
    }
   ],
   "source": [
    "age>5"
   ]
  },
  {
   "cell_type": "code",
   "execution_count": 13,
   "metadata": {},
   "outputs": [
    {
     "data": {
      "text/plain": [
       "False"
      ]
     },
     "execution_count": 13,
     "metadata": {},
     "output_type": "execute_result"
    }
   ],
   "source": [
    "age<5"
   ]
  },
  {
   "cell_type": "code",
   "execution_count": 22,
   "metadata": {},
   "outputs": [
    {
     "data": {
      "text/plain": [
       "False"
      ]
     },
     "execution_count": 22,
     "metadata": {},
     "output_type": "execute_result"
    }
   ],
   "source": [
    "samir = 24\n",
    "ola = 21\n",
    "\n",
    "samir >= 21 and ola >= 40"
   ]
  },
  {
   "cell_type": "code",
   "execution_count": 24,
   "metadata": {},
   "outputs": [
    {
     "data": {
      "text/plain": [
       "True"
      ]
     },
     "execution_count": 24,
     "metadata": {},
     "output_type": "execute_result"
    }
   ],
   "source": [
    "age1 = 20\n",
    "age2 = 21\n",
    "\n",
    "age1 >= 20 and age2 >= 18"
   ]
  },
  {
   "cell_type": "code",
   "execution_count": 25,
   "metadata": {},
   "outputs": [
    {
     "data": {
      "text/plain": [
       "True"
      ]
     },
     "execution_count": 25,
     "metadata": {},
     "output_type": "execute_result"
    }
   ],
   "source": [
    "demand_topping = ['mushroom','potato','onion','peperoni']\n",
    "\n",
    "'mushroom' in demand_topping"
   ]
  },
  {
   "cell_type": "code",
   "execution_count": 26,
   "metadata": {},
   "outputs": [
    {
     "data": {
      "text/plain": [
       "False"
      ]
     },
     "execution_count": 26,
     "metadata": {},
     "output_type": "execute_result"
    }
   ],
   "source": [
    "demand_topping = ['mushroom','potato','onion','peperoni']\n",
    "'gold' in demand_topping"
   ]
  },
  {
   "cell_type": "code",
   "execution_count": 27,
   "metadata": {},
   "outputs": [
    {
     "name": "stdout",
     "output_type": "stream",
     "text": [
      "ANDY ,you can go for exam. All the best!!!\n"
     ]
    }
   ],
   "source": [
    "due_users = ['anders','david','ola','mark']\n",
    "no_due = 'andy'\n",
    "\n",
    "if no_due not in due_users:\n",
    "    print(no_due.upper()+\" ,you can go for exam. All the best!!!\")"
   ]
  },
  {
   "cell_type": "code",
   "execution_count": 28,
   "metadata": {},
   "outputs": [
    {
     "name": "stdout",
     "output_type": "stream",
     "text": [
      "Is car == 'bmw' ? I predict True.\n",
      "True\n",
      "\n",
      "Is car == 'audi'? I predict False.\n",
      "False\n"
     ]
    }
   ],
   "source": [
    " #exercise q1\n",
    "    \n",
    "car =  'bmw'\n",
    "print(\"Is car == 'bmw' ? I predict True.\")\n",
    "print(car == 'bmw')\n",
    "\n",
    "print(\"\\nIs car == 'audi'? I predict False.\")\n",
    "print(car == 'audi')"
   ]
  },
  {
   "cell_type": "code",
   "execution_count": 34,
   "metadata": {},
   "outputs": [
    {
     "name": "stdout",
     "output_type": "stream",
     "text": [
      "Enter your age:19\n",
      "You're eligible for volting, Thank You !!\n",
      "Have you registered for voter id???\n"
     ]
    }
   ],
   "source": [
    "#simple if else statment( one test one action)\n",
    "\n",
    "age = int(input('Enter your age:'))\n",
    "\n",
    "if age >= 18:\n",
    "    print(\"You're eligible for volting, Thank You !!\")\n",
    "    print(\"Have you registered for voter id???\")\n",
    "else:\n",
    "    print(\"You are under age for voting, minnimum  age required is '18'.\")\n",
    "    print(\"Kindly wait for your turn.\")"
   ]
  },
  {
   "cell_type": "code",
   "execution_count": 39,
   "metadata": {},
   "outputs": [
    {
     "name": "stdout",
     "output_type": "stream",
     "text": [
      "Enter your age please:22\n",
      "You're not eligible for admission here, sorry!!!\n"
     ]
    }
   ],
   "source": [
    "#if elif else syntax\n",
    "\n",
    "age = int(input('Enter your age please:'))\n",
    "\n",
    "if age < 4:\n",
    "    print(\"Your admission cost at our school is free, enjoy!!\")\n",
    "    print(\"After age 12, you'll be charged for schooling.\")\n",
    "elif age <18:\n",
    "    print(\"You can apply for scholarship.\\nEither you'll be charged $100 per month.\")\n",
    "    print(\"Contact counselling dept. for more details.\")\n",
    "else:\n",
    "    print(\"You're not eligible for admission here, sorry!!!\")"
   ]
  },
  {
   "cell_type": "code",
   "execution_count": null,
   "metadata": {},
   "outputs": [],
   "source": []
  },
  {
   "cell_type": "code",
   "execution_count": null,
   "metadata": {},
   "outputs": [],
   "source": []
  }
 ],
 "metadata": {
  "kernelspec": {
   "display_name": "Python 3",
   "language": "python",
   "name": "python3"
  },
  "language_info": {
   "codemirror_mode": {
    "name": "ipython",
    "version": 3
   },
   "file_extension": ".py",
   "mimetype": "text/x-python",
   "name": "python",
   "nbconvert_exporter": "python",
   "pygments_lexer": "ipython3",
   "version": "3.7.4"
  }
 },
 "nbformat": 4,
 "nbformat_minor": 2
}
