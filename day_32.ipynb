{
 "cells": [
  {
   "cell_type": "code",
   "execution_count": 4,
   "metadata": {},
   "outputs": [
    {
     "name": "stdout",
     "output_type": "stream",
     "text": [
      "What's is your name? ola\n",
      "\n",
      "Which mountain would you like t climb someday: mt evrest\n",
      "\n",
      "Would you like to let another person respond (yes/no) yes\n",
      "What's is your name? denver\n",
      "\n",
      "Which mountain would you like t climb someday: himalya\n",
      "\n",
      "Would you like to let another person respond (yes/no) no\n",
      "\n",
      "--- Poll Result ---\n",
      "OLA would like to climb mt evrest.\n",
      "DENVER would like to climb himalya.\n"
     ]
    }
   ],
   "source": [
    "#filling a dict. with user input\n",
    "\n",
    "responses = {}\n",
    "\n",
    "polling_active = True\n",
    "\n",
    "while polling_active:\n",
    "    name = input(\"What's is your name? \")\n",
    "    response = input(\"\\nWhich mountain would you like t climb someday: \")\n",
    "    \n",
    "    responses[name] = response\n",
    "    \n",
    "    repeat = input(\"\\nWould you like to let another person respond (yes/no) \")\n",
    "    if repeat == 'no':\n",
    "        polling_active = False\n",
    "        \n",
    "print(\"\\n--- Poll Result ---\")\n",
    "for name, response in responses.items():\n",
    "    print(name.upper()+\" would like to climb \"+ response +\".\")"
   ]
  },
  {
   "cell_type": "code",
   "execution_count": 2,
   "metadata": {},
   "outputs": [
    {
     "name": "stdout",
     "output_type": "stream",
     "text": [
      "Enter your name please: bongi\n",
      "\n",
      "Which food you do like the most? egg roll\n",
      "\n",
      "Wanna add more guys into this poll ?(yes/no). y\n",
      "Enter your name please: golu\n",
      "\n",
      "Which food you do like the most? briyani\n",
      "\n",
      "Wanna add more guys into this poll ?(yes/no). no\n",
      "\n",
      "------POLL RESULT-------\n",
      "Bongi mostly prefer to eat EGG ROLL.\n",
      "Golu mostly prefer to eat BRIYANI.\n"
     ]
    }
   ],
   "source": [
    "responses = {}\n",
    "\n",
    "true_poll = True\n",
    "\n",
    "while true_poll:\n",
    "    name = input(\"Enter your name please: \")\n",
    "\n",
    "    response = input(\"\\nWhich food you do like the most? \")\n",
    "\n",
    "    responses[name] = response\n",
    "    \n",
    "    repeat = input(\"\\nWanna add more guys into this poll ?(yes/no). \")\n",
    "    if repeat =='no':\n",
    "        true_poll = False\n",
    "        \n",
    "        \n",
    "print(\"\\n------POLL RESULT-------\")\n",
    "for name, response in responses.items():\n",
    "    print(name.title()+\" mostly prefer to eat \"+ response.upper()+\".\")\n"
   ]
  },
  {
   "cell_type": "code",
   "execution_count": 10,
   "metadata": {},
   "outputs": [
    {
     "name": "stdout",
     "output_type": "stream",
     "text": [
      "\n",
      "\n",
      "I've made all your sandwitches ordered\n"
     ]
    }
   ],
   "source": [
    "#exerc. q1\n",
    "\n",
    "sandwitch_orders = ['paneer','veg','chicken','egg','butter']\n",
    "\n",
    "finished_sandwitches = []\n",
    "\n",
    "while finished_sandwitches in sandwitch_orders:\n",
    "    for sw in sandwich_orders:\n",
    "        print(\"I made your \"+ sw+\".\")\n",
    "\n",
    "print(\"\\n\")\n",
    "print(\"I've made all your sandwitches ordered\")\n",
    "\n",
    "\n",
    "\n"
   ]
  },
  {
   "cell_type": "code",
   "execution_count": null,
   "metadata": {},
   "outputs": [],
   "source": []
  }
 ],
 "metadata": {
  "kernelspec": {
   "display_name": "Python 3",
   "language": "python",
   "name": "python3"
  },
  "language_info": {
   "codemirror_mode": {
    "name": "ipython",
    "version": 3
   },
   "file_extension": ".py",
   "mimetype": "text/x-python",
   "name": "python",
   "nbconvert_exporter": "python",
   "pygments_lexer": "ipython3",
   "version": "3.7.4"
  }
 },
 "nbformat": 4,
 "nbformat_minor": 2
}
