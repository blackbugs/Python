{
 "cells": [
  {
   "cell_type": "code",
   "execution_count": 4,
   "metadata": {},
   "outputs": [
    {
     "name": "stdout",
     "output_type": "stream",
     "text": [
      "['raju', 'bablu', 'chintu', 'mintu', 'shyam', 'ola', 'courtney']\n",
      "courtney\n",
      "['raju', 'bablu', 'chintu', 'mintu', 'shyam', 'ola']\n"
     ]
    }
   ],
   "source": [
    "#pop method \n",
    "\n",
    "friends=[\"raju\",\"bablu\",\"chintu\",\"mintu\",\"shyam\",\"ola\",\"courtney\"]\n",
    "print(friends)\n",
    "popped_friends=friends.pop()\n",
    "\n",
    "print(popped_friends)\n",
    "\n",
    "print(friends) #here you will seee that one last is been popped out of th list"
   ]
  },
  {
   "cell_type": "code",
   "execution_count": 7,
   "metadata": {},
   "outputs": [
    {
     "name": "stdout",
     "output_type": "stream",
     "text": [
      "My last college batchmates whom I met was COURTNEY.\n"
     ]
    }
   ],
   "source": [
    "#personalized message using pop method\n",
    "\n",
    "friends=[\"raju\",\"bablu\",\"chintu\",\"mintu\",\"shyam\",\"ola\",\"courtney\"]\n",
    "popped=friends.pop()\n",
    "print(\"My last college batchmates whom I met was \"+ popped.upper()+ \".\")"
   ]
  },
  {
   "cell_type": "code",
   "execution_count": 13,
   "metadata": {},
   "outputs": [
    {
     "name": "stdout",
     "output_type": "stream",
     "text": [
      "['raju', 'chintu', 'mintu', 'shyam', 'ola', 'courtney']\n",
      "BABLU\n",
      "One person is missing in our group party i.e  BABLU !!\n"
     ]
    }
   ],
   "source": [
    "#poping method to remove item fron any position, using index\n",
    "\n",
    "friends=[\"raju\",\"bablu\",\"chintu\",\"mintu\",\"shyam\",\"ola\",\"courtney\"]\n",
    "\n",
    "popped=friends.pop(1)\n",
    "\n",
    "print(friends)\n",
    "print(popped.upper())\n",
    "print(\"One person is missing in our group party i.e  \"+ popped.upper()+ \" !!\")"
   ]
  },
  {
   "cell_type": "code",
   "execution_count": 21,
   "metadata": {},
   "outputs": [
    {
     "name": "stdout",
     "output_type": "stream",
     "text": [
      "['raju', 'bablu', 'chintu', 'mintu', 'shyam', 'ola']\n",
      "Courtney, you'll be the incharge of this trip !!\n"
     ]
    }
   ],
   "source": [
    "#popping using index\n",
    "\n",
    "friends=[\"raju\",\"bablu\",\"chintu\",\"mintu\",\"shyam\",\"ola\",\"courtney\"]\n",
    "popped=friends.pop(-1)\n",
    "\n",
    "print(friends)\n",
    "\n",
    "print(popped.title()+\", you'll be the incharge of this trip !!\")"
   ]
  },
  {
   "cell_type": "code",
   "execution_count": 27,
   "metadata": {},
   "outputs": [
    {
     "name": "stdout",
     "output_type": "stream",
     "text": [
      "['raju', 'chintu', 'mintu', 'shyam', 'ola', 'courtney']\n"
     ]
    }
   ],
   "source": [
    "#removing item from list using value\n",
    "\n",
    "friends=[\"raju\",\"bablu\",\"chintu\",\"mintu\",\"shyam\",\"ola\",\"courtney\"]\n",
    "friends.remove('bablu')\n",
    "print(friends)"
   ]
  },
  {
   "cell_type": "code",
   "execution_count": 31,
   "metadata": {},
   "outputs": [
    {
     "name": "stdout",
     "output_type": "stream",
     "text": [
      "['raju', 'bablu', 'chintu', 'mintu', 'shyam', 'ola', 'courtney']\n",
      "Chintu isn't coming\n",
      "because he's too lazyyyyy !!\n"
     ]
    }
   ],
   "source": [
    "#remove() method\n",
    "\n",
    "#popping using index\n",
    "\n",
    "friends=[\"raju\",\"bablu\",\"chintu\",\"mintu\",\"shyam\",\"ola\",\"courtney\"]\n",
    "print(friends)\n",
    "\n",
    "too_lazy='chintu'\n",
    "\n",
    "friends.remove(too_lazy)\n",
    "\n",
    "print(too_lazy.title()+\" isn't coming\\nbecause he's too lazyyyyy !!\")"
   ]
  }
 ],
 "metadata": {
  "kernelspec": {
   "display_name": "Python 3",
   "language": "python",
   "name": "python3"
  },
  "language_info": {
   "codemirror_mode": {
    "name": "ipython",
    "version": 3
   },
   "file_extension": ".py",
   "mimetype": "text/x-python",
   "name": "python",
   "nbconvert_exporter": "python",
   "pygments_lexer": "ipython3",
   "version": "3.7.4"
  }
 },
 "nbformat": 4,
 "nbformat_minor": 4
}
