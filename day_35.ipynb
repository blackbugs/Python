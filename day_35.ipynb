{
 "cells": [
  {
   "cell_type": "code",
   "execution_count": 7,
   "metadata": {},
   "outputs": [
    {
     "name": "stdout",
     "output_type": "stream",
     "text": [
      "Your first name is John\n",
      "Your last name is Ducket\n",
      "\n",
      "\n",
      "Your first name is Ola\n",
      "Your last name is Gunju\n",
      "\n",
      "\n",
      "Your first name is Denver\n",
      "Your last name is Franklin\n",
      "\n",
      "\n"
     ]
    }
   ],
   "source": [
    "#parameter passing\n",
    "\n",
    "def names(fname,lname):\n",
    "    print(\"Your first name is \"+ fname.title())\n",
    "    print(\"Your last name is \"+ lname.title())\n",
    "    print('\\n')\n",
    "\n",
    "#Now we're out of function    \n",
    "\n",
    "names('john','ducket')\n",
    "names('ola','gunju')\n",
    "names('denver','franklin')"
   ]
  },
  {
   "cell_type": "code",
   "execution_count": 17,
   "metadata": {},
   "outputs": [
    {
     "name": "stdout",
     "output_type": "stream",
     "text": [
      "Predefine function defination:\n",
      "\tYour first name is Johny\n",
      "\tYour last anme is Sins\n",
      "\n",
      "\n",
      "Change value during function call: \n",
      "\tYour first name is Ola\n",
      "\tYour last anme is Gunju\n",
      "\n",
      "\n",
      "function defination remains same as it's initially define:\n",
      "\tYour first name is Johny\n",
      "\tYour last anme is Sins\n",
      "\n",
      "\n"
     ]
    }
   ],
   "source": [
    "#default value in parameter passing\n",
    "\n",
    "def users(fn='johny',ln='sins'):\n",
    "    print(\"\\tYour first name is \"+ fn.title())\n",
    "    print(\"\\tYour last anme is \"+ ln.title())\n",
    "    print('\\n')\n",
    "    \n",
    "print(\"Predefine function defination:\") \n",
    "users() \n",
    "print(\"Change value during function call: \")\n",
    "users(fn='ola',ln='gunju') #changing value on the contrary\n",
    "print(\"function defination remains same as it's initially define:\")\n",
    "users()"
   ]
  },
  {
   "cell_type": "code",
   "execution_count": 22,
   "metadata": {},
   "outputs": [
    {
     "name": "stdout",
     "output_type": "stream",
     "text": [
      "15\n",
      "1003\n"
     ]
    }
   ],
   "source": [
    "#return value \n",
    "\n",
    "def addition(a,b):\n",
    "    sum=a+b\n",
    "    return sum\n",
    "\n",
    "print(addition(12,3))\n",
    "print(addition(1000,3))"
   ]
  },
  {
   "cell_type": "code",
   "execution_count": 21,
   "metadata": {},
   "outputs": [
    {
     "name": "stdout",
     "output_type": "stream",
     "text": [
      "10\n",
      "20\n"
     ]
    }
   ],
   "source": [
    "def mult(x):\n",
    "    return 5*x\n",
    "\n",
    "print(mult(2))\n",
    "print(mult(4))"
   ]
  },
  {
   "cell_type": "code",
   "execution_count": null,
   "metadata": {},
   "outputs": [],
   "source": []
  }
 ],
 "metadata": {
  "kernelspec": {
   "display_name": "Python 3",
   "language": "python",
   "name": "python3"
  },
  "language_info": {
   "codemirror_mode": {
    "name": "ipython",
    "version": 3
   },
   "file_extension": ".py",
   "mimetype": "text/x-python",
   "name": "python",
   "nbconvert_exporter": "python",
   "pygments_lexer": "ipython3",
   "version": "3.7.4"
  }
 },
 "nbformat": 4,
 "nbformat_minor": 2
}
