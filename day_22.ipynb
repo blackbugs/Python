{
 "cells": [
  {
   "cell_type": "code",
   "execution_count": 1,
   "metadata": {},
   "outputs": [
    {
     "name": "stdout",
     "output_type": "stream",
     "text": [
      "Please enter your age:3\n",
      "Your admission cost is $10.\n"
     ]
    }
   ],
   "source": [
    "#if else, conditional example\n",
    "\n",
    "age = int(input(\"Please enter your age:\"))\n",
    "\n",
    "if age < 2:\n",
    "    price = 0\n",
    "elif age < 8:\n",
    "    price = 10\n",
    "else:\n",
    "    price = 30\n",
    "    \n",
    "print(\"Your admission cost is $\" + str(price)+\".\")"
   ]
  },
  {
   "cell_type": "code",
   "execution_count": 4,
   "metadata": {},
   "outputs": [
    {
     "name": "stdout",
     "output_type": "stream",
     "text": [
      "Please enter your age:20\n",
      "Your admission cost is $30.\n"
     ]
    }
   ],
   "source": [
    "age = int(input(\"Please enter your age:\"))\n",
    "\n",
    "if age < 2:\n",
    "    price = 0\n",
    "elif age < 8:\n",
    "    price = 10\n",
    "elif age < 12:\n",
    "    price = 15\n",
    "elif age < 20:\n",
    "    price = 18\n",
    "else:\n",
    "    price = 30\n",
    "    \n",
    "print(\"Your admission cost is $\" + str(price)+\".\")"
   ]
  },
  {
   "cell_type": "code",
   "execution_count": 8,
   "metadata": {},
   "outputs": [
    {
     "name": "stdout",
     "output_type": "stream",
     "text": [
      "Please enter your age:21\n",
      "Your admission cost is $18.\n"
     ]
    }
   ],
   "source": [
    "age = int(input(\"Please enter your age:\"))\n",
    "\n",
    "if age < 2:\n",
    "    cost = 0\n",
    "elif age < 8:\n",
    "    cost = 10\n",
    "elif age < 12:\n",
    "    cost = 15\n",
    "elif age >= 20:\n",
    "    cost = 18\n",
    "\n",
    "    \n",
    "print(\"Your admission cost is $\" + str(cost)+\".\")"
   ]
  },
  {
   "cell_type": "code",
   "execution_count": 11,
   "metadata": {},
   "outputs": [
    {
     "name": "stdout",
     "output_type": "stream",
     "text": [
      "Adding pizza.\n",
      "Adding burger.\n",
      "Adding cold drink.\n",
      "Finished with your order, thank you!\n"
     ]
    }
   ],
   "source": [
    "customer_demand = ['pizza','burger','breads','shake','cold drink']\n",
    "\n",
    "if 'pizza' in customer_demand:\n",
    "    print('Adding pizza.')\n",
    "if 'burger' in customer_demand:\n",
    "    print('Adding burger.')\n",
    "if 'cold drink' in customer_demand:\n",
    "    print('Adding cold drink.')\n",
    "\n",
    "print(\"Finished with your order, thank you!\")"
   ]
  },
  {
   "cell_type": "code",
   "execution_count": 15,
   "metadata": {},
   "outputs": [
    {
     "name": "stdout",
     "output_type": "stream",
     "text": [
      "Congrats, you just earned 5 points.\n"
     ]
    }
   ],
   "source": [
    "#exer q1\n",
    "\n",
    "alien_color = ['yello','green','red']\n",
    "\n",
    "if 'green' in alien_color:\n",
    "    print(\"Congrats, you just earned 5 points.\")"
   ]
  },
  {
   "cell_type": "code",
   "execution_count": 22,
   "metadata": {},
   "outputs": [
    {
     "ename": "TypeError",
     "evalue": "'list' object is not callable",
     "output_type": "error",
     "traceback": [
      "\u001b[1;31m---------------------------------------------------------------------------\u001b[0m",
      "\u001b[1;31mTypeError\u001b[0m                                 Traceback (most recent call last)",
      "\u001b[1;32m<ipython-input-22-6fe75eb403de>\u001b[0m in \u001b[0;36m<module>\u001b[1;34m\u001b[0m\n\u001b[0;32m      1\u001b[0m \u001b[1;31m#exer q1\u001b[0m\u001b[1;33m\u001b[0m\u001b[1;33m\u001b[0m\u001b[1;33m\u001b[0m\u001b[0m\n\u001b[0;32m      2\u001b[0m \u001b[1;33m\u001b[0m\u001b[0m\n\u001b[1;32m----> 3\u001b[1;33m \u001b[0mzombbie_color\u001b[0m \u001b[1;33m=\u001b[0m \u001b[0mstr\u001b[0m\u001b[1;33m(\u001b[0m\u001b[0minput\u001b[0m\u001b[1;33m(\u001b[0m\u001b[1;34m\"Enter your alien color:\"\u001b[0m\u001b[1;33m)\u001b[0m\u001b[1;33m)\u001b[0m\u001b[1;33m\u001b[0m\u001b[1;33m\u001b[0m\u001b[0m\n\u001b[0m\u001b[0;32m      4\u001b[0m \u001b[1;33m\u001b[0m\u001b[0m\n\u001b[0;32m      5\u001b[0m \u001b[1;32mif\u001b[0m  \u001b[0mzombbie_color\u001b[0m \u001b[1;32mis\u001b[0m \u001b[1;34m'green'\u001b[0m\u001b[1;33m:\u001b[0m\u001b[1;33m\u001b[0m\u001b[1;33m\u001b[0m\u001b[0m\n",
      "\u001b[1;31mTypeError\u001b[0m: 'list' object is not callable"
     ]
    }
   ],
   "source": [
    "#exer q1\n",
    "\n",
    "zombbie_color = str(input(\"Enter your alien color:\"))\n",
    "\n",
    "if  zombbie_color is 'green':\n",
    "    print(\"Congrats, you just earned 5 points.\")\n",
    "else:\n",
    "    print(\"Congrats, you just earned 10 points.\")"
   ]
  },
  {
   "cell_type": "code",
   "execution_count": null,
   "metadata": {},
   "outputs": [],
   "source": []
  }
 ],
 "metadata": {
  "kernelspec": {
   "display_name": "Python 3",
   "language": "python",
   "name": "python3"
  },
  "language_info": {
   "codemirror_mode": {
    "name": "ipython",
    "version": 3
   },
   "file_extension": ".py",
   "mimetype": "text/x-python",
   "name": "python",
   "nbconvert_exporter": "python",
   "pygments_lexer": "ipython3",
   "version": "3.7.4"
  }
 },
 "nbformat": 4,
 "nbformat_minor": 2
}
