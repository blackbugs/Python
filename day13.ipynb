{
 "cells": [
  {
   "cell_type": "code",
   "execution_count": 6,
   "metadata": {},
   "outputs": [
    {
     "name": "stdout",
     "output_type": "stream",
     "text": [
      "Hello Courtney, today you are invited for dinner party at our place.\n",
      "Hello Ola, today you are invited for dinner party at our place.\n",
      "Hello David, today you are invited for dinner party at our place.\n",
      "Hello Paul, today you are invited for dinner party at our place.\n"
     ]
    }
   ],
   "source": [
    "#list based exercise, q1\n",
    "\n",
    "guests=[\"ola\",\"courtney\",\"david\",\"paul\"]\n",
    "\n",
    "print(\"Hello \"+ guests[1].title()+ \", today you are invited for dinner party at our place.\")\n",
    "print(\"Hello \"+ guests[0].title()+ \", today you are invited for dinner party at our place.\")\n",
    "print(\"Hello \"+ guests[2].title()+ \", today you are invited for dinner party at our place.\")\n",
    "print(\"Hello \"+ guests[-1].title()+ \", today you are invited for dinner party at our place.\")"
   ]
  },
  {
   "cell_type": "code",
   "execution_count": 21,
   "metadata": {},
   "outputs": [
    {
     "name": "stdout",
     "output_type": "stream",
     "text": [
      "List of guest coming for tonight dinner are: \n",
      "['ola', 'courtney', 'david', 'paul', 'gunju']\n",
      "Updated list of guest for tonight dinner are: \n",
      "['ola', 'david', 'paul', 'gunju']\n"
     ]
    }
   ],
   "source": [
    "#changing guest name, q2\n",
    "\n",
    "guests=[\"ola\",\"courtney\",\"david\",\"paul\"]\n",
    "guests.append('gunju')\n",
    "\n",
    "\n",
    "\n",
    "print(\"List of guest coming for tonight dinner are: \")\n",
    "print(guests)\n",
    "print(\"Updated list of guest for tonight dinner are: \")\n",
    "guests.remove('courtney') #she is not coming today\n",
    "print(guests)"
   ]
  },
  {
   "cell_type": "code",
   "execution_count": 26,
   "metadata": {},
   "outputs": [
    {
     "name": "stdout",
     "output_type": "stream",
     "text": [
      "Hello Courtney, today you are invited for dinner party at our place.\n",
      "Hello Ola, today you are invited for dinner party at our place.\n",
      "Hello David, today you are invited for dinner party at our place.\n",
      "Hello Paul, today you are invited for dinner party at our place.\n",
      "We've more spaces left, so we're adding more guets fro tonight party\n",
      "here is the list of new guests:\n",
      "['ola', 'raju', 'courtney', 'david', 'paul', 'bill', 'pol']\n"
     ]
    }
   ],
   "source": [
    "#q3\n",
    "\n",
    "guests=[\"ola\",\"courtney\",\"david\",\"paul\"]\n",
    "\n",
    "print(\"Hello \"+ guests[1].title()+ \", today you are invited for dinner party at our place.\")\n",
    "print(\"Hello \"+ guests[0].title()+ \", today you are invited for dinner party at our place.\")\n",
    "print(\"Hello \"+ guests[2].title()+ \", today you are invited for dinner party at our place.\")\n",
    "print(\"Hello \"+ guests[-1].title()+ \", today you are invited for dinner party at our place.\")\n",
    "print(\"We've more spaces left, so we're adding more guets fro tonight party\\nhere is the list of new guests:\")\n",
    "guests.insert(1,'raju')\n",
    "guests.append('bill')\n",
    "guests.append('pol')\n",
    "print(guests)\n"
   ]
  },
  {
   "cell_type": "code",
   "execution_count": 38,
   "metadata": {},
   "outputs": [
    {
     "name": "stdout",
     "output_type": "stream",
     "text": [
      "It's unfortunate to announce that today dinner are only for selected peoples.\n",
      "So, the name of guests for tonight are as follows:\n",
      "Courtney\n",
      "Paul\n"
     ]
    }
   ],
   "source": [
    "#pop ex., q4\n",
    "\n",
    "guests=[\"ola\",\"courtney\",\"david\",\"paul\"]\n",
    "\n",
    "print(\"It's unfortunate to announce that today dinner are only for selected peoples.\\nSo, the name of guests for tonight are as follows:\")\n",
    "\n",
    "gst1 = guests.pop(1)\n",
    "gst2 = guests.pop(2)\n",
    "\n",
    "print(gst1.title())\n",
    "print(gst2.title())\n"
   ]
  },
  {
   "cell_type": "code",
   "execution_count": 39,
   "metadata": {},
   "outputs": [
    {
     "name": "stdout",
     "output_type": "stream",
     "text": [
      "['courtney', 'david', 'ola', 'paul']\n"
     ]
    }
   ],
   "source": [
    "#sorting method()\n",
    "\n",
    "guests=[\"ola\",\"courtney\",\"david\",\"paul\"]\n",
    "guests.sort()\n",
    "print(guests)"
   ]
  },
  {
   "cell_type": "code",
   "execution_count": null,
   "metadata": {},
   "outputs": [],
   "source": []
  }
 ],
 "metadata": {
  "kernelspec": {
   "display_name": "Python 3",
   "language": "python",
   "name": "python3"
  },
  "language_info": {
   "codemirror_mode": {
    "name": "ipython",
    "version": 3
   },
   "file_extension": ".py",
   "mimetype": "text/x-python",
   "name": "python",
   "nbconvert_exporter": "python",
   "pygments_lexer": "ipython3",
   "version": "3.7.4"
  }
 },
 "nbformat": 4,
 "nbformat_minor": 4
}
