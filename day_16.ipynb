{
 "cells": [
  {
   "cell_type": "code",
   "execution_count": 3,
   "metadata": {},
   "outputs": [
    {
     "name": "stdout",
     "output_type": "stream",
     "text": [
      "Bmw\n",
      "Audi\n",
      "Merccedes\n",
      "Jaguar\n",
      "Thank You, for your time!!\n"
     ]
    }
   ],
   "source": [
    "#type of errors in indenting\n",
    "\n",
    "cars=['bmw','audi','merccedes','jaguar']\n",
    "\n",
    "for car in cars:\n",
    "    print(car.title())\n",
    "print('Thank You, for your time!!')"
   ]
  },
  {
   "cell_type": "code",
   "execution_count": 5,
   "metadata": {},
   "outputs": [
    {
     "name": "stdout",
     "output_type": "stream",
     "text": [
      "Bmw\n",
      "Thank You, for your time!!\n",
      "Audi\n",
      "Thank You, for your time!!\n",
      "Merccedes\n",
      "Thank You, for your time!!\n",
      "Jaguar\n",
      "Thank You, for your time!!\n"
     ]
    }
   ],
   "source": [
    "#type of errors in indenting\n",
    "\n",
    "cars=['bmw','audi','merccedes','jaguar']\n",
    "\n",
    "for car in cars:\n",
    "    print(car.title())\n",
    "print('Thank You, for your time!!')"
   ]
  },
  {
   "cell_type": "code",
   "execution_count": 9,
   "metadata": {},
   "outputs": [
    {
     "name": "stdout",
     "output_type": "stream",
     "text": [
      "Bmw\n",
      "Audi\n",
      "Merccedes\n",
      "Jaguar\n",
      "Thank You, for your time!!\n"
     ]
    }
   ],
   "source": [
    "##type of errors in indenting\n",
    "\n",
    "cars=['bmw','audi','merccedes','jaguar']\n",
    "\n",
    "for car in cars:\n",
    "    print(car.title())\n",
    "    \n",
    "print('Thank You, for your time!!')"
   ]
  },
  {
   "cell_type": "code",
   "execution_count": 11,
   "metadata": {},
   "outputs": [
    {
     "name": "stdout",
     "output_type": "stream",
     "text": [
      "I like onion pizza so much<3\n",
      "I like potato pizza so much<3\n",
      "I like margherita pizza so much<3\n",
      "I like pepperoni pizza so much<3\n",
      "Time by time I'm being addicted to pizzas.\n",
      "Btw, I like the kinda of varieties available.\n",
      "So many choice,yeah!!!\n",
      "\n",
      "\n",
      "In a nutshell, i like pizza alottttttt!!!\n"
     ]
    }
   ],
   "source": [
    "#q1\n",
    "\n",
    "pizzas=['onion','potato','margherita','pepperoni']\n",
    "\n",
    "for pizza in pizzas:\n",
    "    print('I like '+pizza+' pizza so much<3')\n",
    "print(\"Time by time I'm being addicted to pizzas.\\nBtw, I like the kinda of varieties available.\\nSo many choice,yeah!!!\")\n",
    "print(\"\\n\")\n",
    "print('In a nutshell, i like pizza alottttttt!!!')"
   ]
  },
  {
   "cell_type": "code",
   "execution_count": 15,
   "metadata": {},
   "outputs": [
    {
     "name": "stdout",
     "output_type": "stream",
     "text": [
      "A Cow would make a great pet.\n",
      "A Dog would make a great pet.\n",
      "A Elephant would make a great pet.\n",
      "A Girrafe would make a great pet.\n",
      "A Lion would make a great pet.\n",
      "All these animals have one thing in common i.e they are so sweet.\n",
      "Any of these animals would make a grear pet!\n"
     ]
    }
   ],
   "source": [
    "#q2\n",
    "\n",
    "animals=['cow','dog','elephant','girrafe','lion']\n",
    "for animal in animals:\n",
    "    print('A '+animal.title()+' would make a great pet.')\n",
    "print('All these animals have one thing in common i.e they are so sweet.')\n",
    "print('Any of these animals would make a grear pet!')    "
   ]
  },
  {
   "cell_type": "code",
   "execution_count": 20,
   "metadata": {
    "collapsed": true
   },
   "outputs": [
    {
     "name": "stdout",
     "output_type": "stream",
     "text": [
      "1\n",
      "2\n",
      "3\n",
      "4\n",
      "5\n",
      "6\n",
      "7\n",
      "8\n",
      "9\n",
      "10\n",
      "11\n",
      "12\n",
      "13\n",
      "14\n",
      "15\n",
      "16\n",
      "17\n",
      "18\n",
      "19\n"
     ]
    }
   ],
   "source": [
    "#list for numeric data\n",
    "\n",
    "for value in range(1,20):\n",
    "    print( value)"
   ]
  },
  {
   "cell_type": "code",
   "execution_count": 26,
   "metadata": {},
   "outputs": [
    {
     "name": "stdout",
     "output_type": "stream",
     "text": [
      "[2, 4, 6, 8, 10, 12, 14, 16, 18]\n",
      "[3, 5, 7, 9, 11, 13, 15, 17, 19, 21, 23, 25, 27, 29, 31, 33, 35, 37, 39, 41, 43, 45, 47, 49, 51, 53, 55, 57, 59, 61, 63, 65, 67, 69, 71, 73, 75, 77, 79, 81, 83, 85, 87, 89, 91, 93, 95, 97, 99]\n"
     ]
    }
   ],
   "source": [
    "#ex 2\n",
    "numbers=list(range(2,20,2))\n",
    "print(numbers)\n",
    "\n",
    "odd_nos=list(range(3,100,2))\n",
    "print(odd_nos)"
   ]
  },
  {
   "cell_type": "code",
   "execution_count": 29,
   "metadata": {},
   "outputs": [
    {
     "name": "stdout",
     "output_type": "stream",
     "text": [
      "[1, 4, 9, 16, 25, 36, 49, 64, 81, 100, 121, 144, 169, 196, 225, 256, 289, 324, 361, 400, 441, 484, 529, 576, 625, 676, 729, 784, 841, 900, 961, 1024, 1089, 1156, 1225, 1296, 1369, 1444, 1521, 1600, 1681, 1764, 1849, 1936, 2025, 2116, 2209, 2304, 2401, 2500, 2601, 2704, 2809, 2916, 3025, 3136, 3249, 3364, 3481, 3600, 3721, 3844, 3969, 4096, 4225, 4356, 4489, 4624, 4761, 4900, 5041, 5184, 5329, 5476, 5625, 5776, 5929, 6084, 6241, 6400, 6561, 6724, 6889, 7056, 7225, 7396, 7569, 7744, 7921, 8100, 8281, 8464, 8649, 8836, 9025, 9216, 9409, 9604, 9801]\n"
     ]
    }
   ],
   "source": [
    "#squares\n",
    "squares=[]\n",
    "for value in range(1,100):\n",
    "    square=value**2\n",
    "    squares.append(square)\n",
    "print(squares)"
   ]
  },
  {
   "cell_type": "code",
   "execution_count": null,
   "metadata": {},
   "outputs": [],
   "source": []
  }
 ],
 "metadata": {
  "kernelspec": {
   "display_name": "Python 3",
   "language": "python",
   "name": "python3"
  },
  "language_info": {
   "codemirror_mode": {
    "name": "ipython",
    "version": 3
   },
   "file_extension": ".py",
   "mimetype": "text/x-python",
   "name": "python",
   "nbconvert_exporter": "python",
   "pygments_lexer": "ipython3",
   "version": "3.7.4"
  }
 },
 "nbformat": 4,
 "nbformat_minor": 2
}
