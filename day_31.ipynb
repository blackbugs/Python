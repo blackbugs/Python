{
 "cells": [
  {
   "cell_type": "code",
   "execution_count": 8,
   "metadata": {},
   "outputs": [
    {
     "name": "stdout",
     "output_type": "stream",
     "text": [
      "Enter your age before going forward: 2\n",
      "Price of ticket is $3.\n"
     ]
    }
   ],
   "source": [
    "age = int(input(\"Enter your age before going forward: \"))\n",
    "\n",
    "if age<=3:\n",
    "     print(\"Price of ticket is $3.\")\n",
    "elif age<=13:\n",
    "    print(\"Price of ticket is $10.\")\n",
    "else:\n",
    "    print(\"Price of ticket is $15.\")\n"
   ]
  },
  {
   "cell_type": "code",
   "execution_count": 12,
   "metadata": {},
   "outputs": [
    {
     "name": "stdout",
     "output_type": "stream",
     "text": [
      "verfifying users: BHOLA.\n",
      "verfifying users: OLA.\n",
      "verfifying users: DENVER.\n",
      "verfifying users: ALICE.\n",
      "\n",
      "\n",
      "Here's the list of confirmed users: \n",
      "alice\n"
     ]
    }
   ],
   "source": [
    "#while loop with list snd dictionaris\n",
    "\n",
    "unconfirmed_users = ['alice','denver','ola','bhola']\n",
    "confirmed_users = [] #start with empty list for confirmed users which will added further\n",
    "\n",
    "while unconfirmed_users:\n",
    "    current_users = unconfirmed_users.pop()\n",
    "    \n",
    "    print(\"verfifying users: \"+ current_users.upper()+\".\")\n",
    "    confirmed_users.append(current_users)\n",
    "    \n",
    "print(\"\\n\")\n",
    "print(\"Here's the list of confirmed users: \")\n",
    "print(current_users)"
   ]
  },
  {
   "cell_type": "code",
   "execution_count": 15,
   "metadata": {},
   "outputs": [
    {
     "name": "stdout",
     "output_type": "stream",
     "text": [
      "list of availabe cars here:\n",
      "['bmw', 'audi', 'jaguar', 'mercedes', 'rolls royce']\n",
      "\n",
      "\n",
      "after removal of selected car\n",
      "['audi', 'jaguar', 'mercedes', 'rolls royce']\n"
     ]
    }
   ],
   "source": [
    "#remove item form list using while loop\n",
    "\n",
    "print(\"list of availabe cars here:\")\n",
    "cars = ['bmw','audi','jaguar','mercedes','rolls royce']\n",
    "print(cars)\n",
    "print(\"\\n\")\n",
    "print(\"after removal of selected car\")\n",
    "while 'bmw' in cars:\n",
    "    cars.remove('bmw')\n",
    "\n",
    "print(cars)"
   ]
  },
  {
   "cell_type": "code",
   "execution_count": null,
   "metadata": {},
   "outputs": [],
   "source": [
    "#filling a dict with user input\n",
    "\n",
    "response = {}\n",
    "\n",
    "#set flag\n",
    "\n",
    "polling_active = True\n",
    "\n",
    "while polling_active:\n",
    "    name = input(\"\\nWhat's is your name?\")\n",
    "    response = input(\"which mountain would you like t climb someday? \")\n",
    "    \n",
    "    #store response in dict.\n",
    "    \n",
    "    responses[name] = response\n",
    "    \n",
    "    repeat = input"
   ]
  }
 ],
 "metadata": {
  "kernelspec": {
   "display_name": "Python 3",
   "language": "python",
   "name": "python3"
  },
  "language_info": {
   "codemirror_mode": {
    "name": "ipython",
    "version": 3
   },
   "file_extension": ".py",
   "mimetype": "text/x-python",
   "name": "python",
   "nbconvert_exporter": "python",
   "pygments_lexer": "ipython3",
   "version": "3.7.4"
  }
 },
 "nbformat": 4,
 "nbformat_minor": 2
}
