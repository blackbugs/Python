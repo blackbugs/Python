{
 "cells": [
  {
   "cell_type": "code",
   "execution_count": 10,
   "metadata": {},
   "outputs": [
    {
     "name": "stdout",
     "output_type": "stream",
     "text": [
      "Raju\n",
      "Bablu\n",
      "CHINTU\n",
      "mintu\n",
      "Courtney\n",
      "OLA\n",
      "Shyam\n"
     ]
    }
   ],
   "source": [
    "#practice on list, q1\n",
    "\n",
    "friends=[\"raju\",\"bablu\",\"chintu\",\"mintu\",\"shyam\",\"ola\",\"courtney\"]\n",
    "\n",
    "print(friends[0].title())\n",
    "print(friends[1].title())\n",
    "print(friends[2].upper())\n",
    "print(friends[3].lower())\n",
    "print(friends[-1].title())\n",
    "print(friends[-2].upper())\n",
    "print(friends[-3].title())\n"
   ]
  },
  {
   "cell_type": "code",
   "execution_count": 13,
   "metadata": {},
   "outputs": [
    {
     "name": "stdout",
     "output_type": "stream",
     "text": [
      "Hello bablu how are you??\n"
     ]
    }
   ],
   "source": [
    "#q2\n",
    "\n",
    "print(\"Hello \"+friends[1]+ \" how are you??\")\n"
   ]
  }
 ],
 "metadata": {
  "kernelspec": {
   "display_name": "Python 3",
   "language": "python",
   "name": "python3"
  },
  "language_info": {
   "codemirror_mode": {
    "name": "ipython",
    "version": 3
   },
   "file_extension": ".py",
   "mimetype": "text/x-python",
   "name": "python",
   "nbconvert_exporter": "python",
   "pygments_lexer": "ipython3",
   "version": "3.7.4"
  }
 },
 "nbformat": 4,
 "nbformat_minor": 4
}
