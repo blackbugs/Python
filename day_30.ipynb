{
 "cells": [
  {
   "cell_type": "code",
   "execution_count": null,
   "metadata": {},
   "outputs": [
    {
     "name": "stdout",
     "output_type": "stream",
     "text": [
      "Enter a message and I'll repeat next to you: \n",
      "Use 'quit t exit from program.'oloak\n",
      "oloak\n"
     ]
    }
   ],
   "source": [
    "#while loop example \n",
    "\n",
    "message = \"Enter a message and I'll repeat next to you: \\nUse 'quit t exit from program.'\"\n",
    "\n",
    "choice=\"\"\n",
    "\n",
    "while choice != 'quit':\n",
    "    choice = input(message)\n",
    "    \n",
    "    if choice != 'quit':\n",
    "        print(choice)\n",
    "        "
   ]
  },
  {
   "cell_type": "code",
   "execution_count": null,
   "metadata": {},
   "outputs": [],
   "source": [
    "#using flag ( it acts as a signal to program)\n",
    "\n",
    "message = \"Enter a message and I'll repeat next to you: \"\n",
    "message+= \"Use 'quit' t exit from the program.\"\n",
    "\n",
    "active = True\n",
    "while active:\n",
    "    inpt = input(message)\n",
    "    \n",
    "    if inpt == 'quit':\n",
    "        active = False\n",
    "    else:\n",
    "        print(inpt.upper())"
   ]
  },
  {
   "cell_type": "code",
   "execution_count": 2,
   "metadata": {
    "scrolled": true
   },
   "outputs": [
    {
     "name": "stdout",
     "output_type": "stream",
     "text": [
      "\n",
      "Enter the name of city you've visited: \n",
      "(Enetr 'quit' to run out of this program.)new york\n",
      "I'd love to visit NEW YORK !\n",
      "\n",
      "Enter the name of city you've visited: \n",
      "(Enetr 'quit' to run out of this program.)belgium\n",
      "I'd love to visit BELGIUM !\n",
      "\n",
      "Enter the name of city you've visited: \n",
      "(Enetr 'quit' to run out of this program.)uae\n",
      "I'd love to visit UAE !\n",
      "\n",
      "Enter the name of city you've visited: \n",
      "(Enetr 'quit' to run out of this program.)quit\n"
     ]
    }
   ],
   "source": [
    "#use break statment to stop the execution of program immediately\n",
    "\n",
    "prompt = \"\\nEnter the name of city you've visited: \"\n",
    "prompt += \"\\n(Enetr 'quit' to run out of this program.)\"\n",
    "\n",
    "while True:\n",
    "    city = input(prompt)\n",
    "    \n",
    "    if city =='quit':\n",
    "        break\n",
    "    else:\n",
    "        print(\"I'd love to visit \"+city.upper()+ \" !\")"
   ]
  },
  {
   "cell_type": "code",
   "execution_count": 6,
   "metadata": {
    "collapsed": true
   },
   "outputs": [
    {
     "name": "stdout",
     "output_type": "stream",
     "text": [
      "1\n",
      "3\n",
      "5\n",
      "7\n",
      "9\n"
     ]
    }
   ],
   "source": [
    "#continue statment\n",
    "\n",
    "crnt_no = 0\n",
    "\n",
    "while crnt_no < 10:\n",
    "    crnt_no += 1\n",
    "    if crnt_no % 2 == 0:\n",
    "        continue #it'll check fro odd ones and stop the else.\n",
    "    \n",
    "    print(crnt_no)"
   ]
  },
  {
   "cell_type": "code",
   "execution_count": null,
   "metadata": {},
   "outputs": [],
   "source": [
    "x = 1\n",
    "while x <= 6:\n",
    "    print(x)\n",
    "    x += 1"
   ]
  },
  {
   "cell_type": "code",
   "execution_count": 1,
   "metadata": {},
   "outputs": [
    {
     "name": "stdout",
     "output_type": "stream",
     "text": [
      "Enter the topping you want: onion\n",
      "onion is added to your pizza.\n",
      "Enter the topping you want: peperoni\n",
      "peperoni is added to your pizza.\n",
      "Enter the topping you want: cheese\n",
      "cheese is added to your pizza.\n",
      "Enter the topping you want: potato\n",
      "potato is added to your pizza.\n",
      "Enter the topping you want: quit\n"
     ]
    }
   ],
   "source": [
    "message = \"Enter the topping you want: \"\n",
    "\n",
    "choice=\"\"\n",
    "\n",
    "while choice != 'quit':\n",
    "    choice = input(message)\n",
    "    \n",
    "    if choice != 'quit':\n",
    "        print(choice +\" is added to your pizza.\")\n",
    "        "
   ]
  },
  {
   "cell_type": "code",
   "execution_count": 3,
   "metadata": {},
   "outputs": [
    {
     "name": "stdout",
     "output_type": "stream",
     "text": [
      "Enter you age please: 2\n"
     ]
    },
    {
     "ename": "TypeError",
     "evalue": "'<' not supported between instances of 'str' and 'int'",
     "output_type": "error",
     "traceback": [
      "\u001b[1;31m---------------------------------------------------------------------------\u001b[0m",
      "\u001b[1;31mTypeError\u001b[0m                                 Traceback (most recent call last)",
      "\u001b[1;32m<ipython-input-3-e4177d44afdd>\u001b[0m in \u001b[0;36m<module>\u001b[1;34m\u001b[0m\n\u001b[0;32m      2\u001b[0m \u001b[1;33m\u001b[0m\u001b[0m\n\u001b[0;32m      3\u001b[0m \u001b[1;32mfor\u001b[0m \u001b[0mages\u001b[0m \u001b[1;32min\u001b[0m \u001b[0mage\u001b[0m\u001b[1;33m:\u001b[0m\u001b[1;33m\u001b[0m\u001b[1;33m\u001b[0m\u001b[0m\n\u001b[1;32m----> 4\u001b[1;33m     \u001b[1;32mif\u001b[0m \u001b[0mage\u001b[0m \u001b[1;33m<\u001b[0m \u001b[1;36m4\u001b[0m\u001b[1;33m:\u001b[0m\u001b[1;33m\u001b[0m\u001b[1;33m\u001b[0m\u001b[0m\n\u001b[0m\u001b[0;32m      5\u001b[0m         \u001b[0mprint\u001b[0m\u001b[1;33m(\u001b[0m\u001b[1;34m\"Your ticketis free, enjoy!\"\u001b[0m\u001b[1;33m)\u001b[0m\u001b[1;33m\u001b[0m\u001b[1;33m\u001b[0m\u001b[0m\n\u001b[0;32m      6\u001b[0m     \u001b[1;32melif\u001b[0m \u001b[0mage\u001b[0m \u001b[1;33m<\u001b[0m\u001b[1;36m13\u001b[0m\u001b[1;33m:\u001b[0m\u001b[1;33m\u001b[0m\u001b[1;33m\u001b[0m\u001b[0m\n",
      "\u001b[1;31mTypeError\u001b[0m: '<' not supported between instances of 'str' and 'int'"
     ]
    }
   ],
   "source": [
    "age = input(\"Enter you age please: \")\n",
    "\n",
    "for ages in age:\n",
    "    if age < 4:\n",
    "        print(\"Your ticketis free, enjoy!\")\n",
    "    elif age <13:\n",
    "        print(\"Your ticket cost is $10, enjoy!!\")\n",
    "    else:\n",
    "        print(\"Your ticket cost is $15, enjoy!!\")"
   ]
  },
  {
   "cell_type": "code",
   "execution_count": null,
   "metadata": {},
   "outputs": [],
   "source": []
  }
 ],
 "metadata": {
  "kernelspec": {
   "display_name": "Python 3",
   "language": "python",
   "name": "python3"
  },
  "language_info": {
   "codemirror_mode": {
    "name": "ipython",
    "version": 3
   },
   "file_extension": ".py",
   "mimetype": "text/x-python",
   "name": "python",
   "nbconvert_exporter": "python",
   "pygments_lexer": "ipython3",
   "version": "3.7.4"
  }
 },
 "nbformat": 4,
 "nbformat_minor": 2
}
