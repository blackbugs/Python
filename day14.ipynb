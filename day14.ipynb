{
 "cells": [
  {
   "cell_type": "code",
   "execution_count": 2,
   "metadata": {},
   "outputs": [
    {
     "name": "stdout",
     "output_type": "stream",
     "text": [
      "['0', '12', '19', '2', '3', '9']\n"
     ]
    }
   ],
   "source": [
    "#sorting method\n",
    "\n",
    "nos=[\"3\",\"2\",\"0\",\"9\",\"19\",\"12\"]\n",
    "\n",
    "nos.sort()\n",
    "\n",
    "print(nos)"
   ]
  },
  {
   "cell_type": "code",
   "execution_count": 11,
   "metadata": {},
   "outputs": [
    {
     "name": "stdout",
     "output_type": "stream",
     "text": [
      "The original list:\n",
      "['ola', 'heam', 'atik', 'atul', 'ani', 'subham', 'sizzling']\n",
      "Sorted list items:\n",
      "['ani', 'atik', 'atul', 'heam', 'ola', 'sizzling', 'subham']\n",
      "Actual list items were still same:\n",
      "['ola', 'heam', 'atik', 'atul', 'ani', 'subham', 'sizzling']\n"
     ]
    }
   ],
   "source": [
    "#temproary sorting\n",
    "\n",
    "buddies=[\"ola\",\"heam\",\"atik\",\"atul\",\"ani\",\"subham\",\"sizzling\"]\n",
    "print('The original list:')\n",
    "print(buddies)\n",
    "print('Sorted list items:')\n",
    "print(sorted(buddies))\n",
    "print('Actual list items were still same:')\n",
    "print(buddies)\n",
    "\n"
   ]
  },
  {
   "cell_type": "code",
   "execution_count": 12,
   "metadata": {},
   "outputs": [
    {
     "name": "stdout",
     "output_type": "stream",
     "text": [
      "['sizzling', 'subham', 'ani', 'atul', 'atik', 'heam', 'ola']\n"
     ]
    }
   ],
   "source": [
    "#sorting in reverse order\n",
    "\n",
    "buddies=[\"ola\",\"heam\",\"atik\",\"atul\",\"ani\",\"subham\",\"sizzling\"]\n",
    "buddies.reverse()\n",
    "print(buddies)"
   ]
  },
  {
   "cell_type": "code",
   "execution_count": 24,
   "metadata": {},
   "outputs": [
    {
     "name": "stdout",
     "output_type": "stream",
     "text": [
      "atik\n"
     ]
    }
   ],
   "source": [
    "#poping with index value\n",
    "buddies=[\"ola\",\"heam\",\"atik\",\"atul\",\"ani\",\"subham\",\"sizzling\"]\n",
    "    \n",
    "popped_buddies= buddies.pop(2)\n",
    "\n",
    "print(popped_buddies)"
   ]
  },
  {
   "cell_type": "code",
   "execution_count": 25,
   "metadata": {},
   "outputs": [
    {
     "name": "stdout",
     "output_type": "stream",
     "text": [
      "['sizzling', 'subham', 'ani', 'atul', 'atik', 'heam', 'ola']\n"
     ]
    }
   ],
   "source": [
    "buddies=[\"ola\",\"heam\",\"atik\",\"atul\",\"ani\",\"subham\",\"sizzling\"]\n",
    "\n",
    "buddies.reverse()\n",
    "print(buddies)"
   ]
  },
  {
   "cell_type": "code",
   "execution_count": 27,
   "metadata": {},
   "outputs": [
    {
     "data": {
      "text/plain": [
       "7"
      ]
     },
     "execution_count": 27,
     "metadata": {},
     "output_type": "execute_result"
    }
   ],
   "source": [
    "#counting the length of list, using len() method\n",
    "\n",
    "buddies=[\"ola\",\"heam\",\"atik\",\"atul\",\"ani\",\"subham\",\"sizzling\"]\n",
    "\n",
    "len(buddies)\n"
   ]
  },
  {
   "cell_type": "code",
   "execution_count": 7,
   "metadata": {},
   "outputs": [
    {
     "name": "stdout",
     "output_type": "stream",
     "text": [
      "Places i would like to visit are:\n",
      "['brisbane', 'uae', 'prague', 'shimla', 'sydney', 'paris', 'jammu']\n",
      "I have an priority i.e which place I'll visit first:\n",
      "['brisbane', 'jammu', 'paris', 'prague', 'shimla', 'sydney', 'uae']\n",
      "['brisbane', 'uae', 'prague', 'shimla', 'sydney', 'paris', 'jammu']\n",
      "['jammu', 'paris', 'sydney', 'shimla', 'prague', 'uae', 'brisbane']\n",
      "['brisbane', 'uae', 'prague', 'shimla', 'sydney', 'paris', 'jammu']\n",
      "In alphabetical order:\n",
      "['brisbane', 'jammu', 'paris', 'prague', 'shimla', 'sydney', 'uae']\n",
      "['brisbane', 'jammu', 'paris', 'prague', 'shimla', 'sydney', 'uae']\n"
     ]
    }
   ],
   "source": [
    "#exercise, q1\n",
    "\n",
    "destinations=[\"brisbane\",\"uae\",\"prague\",\"shimla\",\"sydney\",\"paris\",\"jammu\"]\n",
    "\n",
    "print('Places i would like to visit are:')\n",
    "print(destinations) #intial list items & place\n",
    "print(\"I have an priority i.e which place I'll visit first:\")\n",
    "print(sorted(destinations)) #sorted list\n",
    "print(destinations) #original list\n",
    "destinations.reverse()\n",
    "print(destinations)#in reverse order\n",
    "destinations.reverse()\n",
    "print(destinations)#original list(after double reversed)\n",
    "destinations.sort()\n",
    "print('In alphabetical order:')\n",
    "print(destinations)\n",
    "destinations.sort()\n",
    "print(destinations)\n",
    "\n",
    "\n"
   ]
  },
  {
   "cell_type": "code",
   "execution_count": null,
   "metadata": {},
   "outputs": [],
   "source": []
  }
 ],
 "metadata": {
  "kernelspec": {
   "display_name": "Python 3",
   "language": "python",
   "name": "python3"
  },
  "language_info": {
   "codemirror_mode": {
    "name": "ipython",
    "version": 3
   },
   "file_extension": ".py",
   "mimetype": "text/x-python",
   "name": "python",
   "nbconvert_exporter": "python",
   "pygments_lexer": "ipython3",
   "version": "3.7.4"
  }
 },
 "nbformat": 4,
 "nbformat_minor": 4
}
