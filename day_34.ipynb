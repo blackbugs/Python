{
 "cells": [
  {
   "cell_type": "code",
   "execution_count": 19,
   "metadata": {
    "collapsed": true
   },
   "outputs": [
    {
     "name": "stdout",
     "output_type": "stream",
     "text": [
      "Hello students, Denver !!!\n",
      "\n",
      "\n",
      "Hello students, Ola !!!\n",
      "\n",
      "\n",
      "Hello students, Kevin !!!\n",
      "\n",
      "\n",
      "Hello students, Amar !!!\n",
      "\n",
      "\n",
      "Hello students, Atul !!!\n",
      "\n",
      "\n"
     ]
    }
   ],
   "source": [
    "#function day 2\n",
    "\n",
    "\"\"\"Display a simple greeting using function call\"\"\"\n",
    "\n",
    "def greeting_user(user):\n",
    "    print(\"Hello students, \"+ user.title()+\" !!!\")\n",
    "    print(\"\\n\")\n",
    "    \n",
    "greeting_user(\"denver\")\n",
    "greeting_user(\"ola\")\n",
    "greeting_user(\"kevin\")\n",
    "greeting_user(\"amar\")\n",
    "greeting_user(\"atul\")"
   ]
  },
  {
   "cell_type": "code",
   "execution_count": 18,
   "metadata": {
    "collapsed": true
   },
   "outputs": [
    {
     "name": "stdout",
     "output_type": "stream",
     "text": [
      "Hello, Denver welcome to the new era of coding hoe you'll enjoy this session.\n",
      "Hello, Ola welcome to the new era of coding hoe you'll enjoy this session.\n",
      "Hello, Golu welcome to the new era of coding hoe you'll enjoy this session.\n",
      "Hello, Aman welcome to the new era of coding hoe you'll enjoy this session.\n"
     ]
    }
   ],
   "source": [
    "def my_function(fname):\n",
    "    message = \"welcome to the new era of coding hoe you'll enjoy this session.\"\n",
    "    print(\"Hello, \"+ fname.title()+\" \" + message )\n",
    "    \n",
    "\n",
    "my_function(\"denver\")\n",
    "my_function(\"ola\")\n",
    "my_function(\"golu\")\n",
    "my_function(\"aman\")"
   ]
  },
  {
   "cell_type": "code",
   "execution_count": 24,
   "metadata": {},
   "outputs": [
    {
     "name": "stdout",
     "output_type": "stream",
     "text": [
      "Ola Gunju\n",
      "\n",
      "\n",
      "laddu gopal\n",
      "\n",
      "\n"
     ]
    }
   ],
   "source": [
    "#arguments and parameter\n",
    "\n",
    "def my_fnctn(fname, lname):\n",
    "    print(fname+ \" \"+ lname)\n",
    "    print(\"\\n\")\n",
    "\n",
    "my_fnctn(\"Ola\",\"Gunju\")\n",
    "my_fnctn(\"laddu\",\"gopal\")\n",
    "\n",
    "#Note: fucntion except two arguments If you try 1 or 3 you'll get an error\n"
   ]
  },
  {
   "cell_type": "code",
   "execution_count": 27,
   "metadata": {},
   "outputs": [
    {
     "name": "stdout",
     "output_type": "stream",
     "text": [
      "coca cola\n",
      "mountain dew\n"
     ]
    }
   ],
   "source": [
    "#function with single argument\n",
    "\n",
    "def cold_drink(cold,drink):\n",
    "    print(cold + \" \" + drink)\n",
    "    \n",
    "cold_drink(\"coca\",\"cola\")\n",
    "cold_drink(\"mountain\",\"dew\")"
   ]
  },
  {
   "cell_type": "code",
   "execution_count": null,
   "metadata": {},
   "outputs": [],
   "source": []
  },
  {
   "cell_type": "code",
   "execution_count": null,
   "metadata": {},
   "outputs": [],
   "source": []
  }
 ],
 "metadata": {
  "kernelspec": {
   "display_name": "Python 3",
   "language": "python",
   "name": "python3"
  },
  "language_info": {
   "codemirror_mode": {
    "name": "ipython",
    "version": 3
   },
   "file_extension": ".py",
   "mimetype": "text/x-python",
   "name": "python",
   "nbconvert_exporter": "python",
   "pygments_lexer": "ipython3",
   "version": "3.7.4"
  }
 },
 "nbformat": 4,
 "nbformat_minor": 2
}
