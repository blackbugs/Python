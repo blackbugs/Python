{
 "cells": [
  {
   "cell_type": "code",
   "execution_count": 4,
   "metadata": {},
   "outputs": [
    {
     "name": "stdout",
     "output_type": "stream",
     "text": [
      "Your earned 5 points.\n",
      "You earned 10 points.\n",
      "Your earned 15 points.\n"
     ]
    }
   ],
   "source": [
    "#ex. q1\n",
    "\n",
    "alien_color = ['green','yellow','red']\n",
    "\n",
    "if 'green' in alien_color:\n",
    "    print(\"Your earned 5 points.\")\n",
    "if 'yellow' in alien_color:\n",
    "    print(\"You earned 10 points.\")\n",
    "if 'red' in alien_color:\n",
    "    print(\"Your earned 15 points.\")\n",
    "    "
   ]
  },
  {
   "cell_type": "code",
   "execution_count": 11,
   "metadata": {},
   "outputs": [
    {
     "name": "stdout",
     "output_type": "stream",
     "text": [
      "Enter your age:67\n",
      "Sorry but you are suppose to die.\n"
     ]
    }
   ],
   "source": [
    "age = int(input(\"Enter your age:\"))\n",
    "\n",
    "if age < 2:\n",
    "    print(\"You are a baby.\")\n",
    "elif  age <= 4:\n",
    "    print(\"You are a toddler.\")\n",
    "elif age < 13:\n",
    "    print(\"You are a kid. \")\n",
    "elif age < 20:\n",
    "    print(\"You are a teenager.\")\n",
    "elif age < 65:\n",
    "    print(\"You are a adult.\")\n",
    "else:\n",
    "    print(\"Sorry but you are suppose to die.\")"
   ]
  },
  {
   "cell_type": "code",
   "execution_count": 20,
   "metadata": {},
   "outputs": [
    {
     "name": "stdout",
     "output_type": "stream",
     "text": [
      "Adding mushroom.\n",
      "Sorry, we're out of green peppers right now.\n",
      "Adding extra cheese.\n",
      "Adding marghita.\n",
      "Adding onion.\n",
      "\n",
      "Finished making your pizza!!\n"
     ]
    }
   ],
   "source": [
    "toppings_demanded = ['mushroom','green peppers','extra cheese','marghita','onion']\n",
    "\n",
    "for topping in toppings_demanded:\n",
    "    if topping =='green peppers':\n",
    "        print(\"Sorry, we're out of green peppers right now.\")\n",
    "    else:\n",
    "        print(\"Adding \"+ topping+\".\")\n",
    "print(\"\\nFinished making your pizza!!\")"
   ]
  },
  {
   "cell_type": "code",
   "execution_count": 14,
   "metadata": {},
   "outputs": [
    {
     "name": "stdout",
     "output_type": "stream",
     "text": [
      "Adding mushroom.\n",
      "Adding green peppers.\n",
      "Adding extra cheese.\n",
      "\n",
      "Finished making your pizza.\n"
     ]
    }
   ],
   "source": [
    "toppings_demanded = ['mushroom','green peppers','extra cheese']\n",
    "\n",
    "for topping in toppings_demanded:\n",
    "    print(\"Adding \"+ topping+\".\" )\n",
    "\n",
    "print(\"\\nFinished making your pizza.\")"
   ]
  },
  {
   "cell_type": "code",
   "execution_count": 21,
   "metadata": {},
   "outputs": [
    {
     "name": "stdout",
     "output_type": "stream",
     "text": [
      "Are you sure you want a plain pizza?\n"
     ]
    }
   ],
   "source": [
    "requested_topping=[]\n",
    "\n",
    "if requested_topping:\n",
    "    for topping in requestd_topping:\n",
    "        print(\"Adding \"+ topping + \".\")\n",
    "    print(\"\\nFinished making your pizza.\")\n",
    "else:\n",
    "    print(\"Are you sure you want a plain pizza?\")"
   ]
  },
  {
   "cell_type": "code",
   "execution_count": 23,
   "metadata": {},
   "outputs": [
    {
     "name": "stdout",
     "output_type": "stream",
     "text": [
      "Adding mushroom.\n",
      "Sorry, we don't have french fries.\n",
      "Sorry, we don't have cold drink.\n",
      "Adding extra cheese.\n",
      "\n",
      "\n",
      "Finishsed making your pizza, enjoy!!!\n"
     ]
    }
   ],
   "source": [
    "available_toppings = ['mushroom','green peppers','extra cheese']\n",
    "\n",
    "requested_toppings = ['mushroom','french fries','cold drink','extra cheese']\n",
    "\n",
    "for topping in requested_toppings:\n",
    "    if topping in available_toppings:\n",
    "        print(\"Adding \"+ topping+\".\")\n",
    "    else:\n",
    "        print(\"Sorry, we don't have \"+ topping+\".\")\n",
    "\n",
    "print(\"\\n\\nFinishsed making your pizza, enjoy!!!\")\n"
   ]
  },
  {
   "cell_type": "code",
   "execution_count": 34,
   "metadata": {},
   "outputs": [
    {
     "name": "stdout",
     "output_type": "stream",
     "text": [
      "Enter Your Name:admin\n",
      "Hello ola, thank you fro logging in again!\n",
      "Hello denver, thank you fro logging in again!\n",
      "Hello proffesor, thank you fro logging in again!\n",
      "Hello utkarsh, thank you fro logging in again!\n",
      "Hello atul, thank you fro logging in again!\n",
      "Hello admin would you like to see a status repport?\n"
     ]
    }
   ],
   "source": [
    "#exercise\n",
    "\n",
    "users = ['ola','denver','proffesor','utkarsh','atul','admin']\n",
    "\n",
    "user = str(input(\"Enter Your Name:\"))\n",
    "\n",
    "for user in users:\n",
    "    if user == 'admin':\n",
    "        print(\"Hello admin would you like to see a status repport?\")\n",
    "    else:\n",
    "        print(\"Hello \"+ user+\", thank you fro logging in again!\")"
   ]
  },
  {
   "cell_type": "code",
   "execution_count": null,
   "metadata": {},
   "outputs": [],
   "source": [
    "#exercise question\n",
    "\n",
    " "
   ]
  }
 ],
 "metadata": {
  "kernelspec": {
   "display_name": "Python 3",
   "language": "python",
   "name": "python3"
  },
  "language_info": {
   "codemirror_mode": {
    "name": "ipython",
    "version": 3
   },
   "file_extension": ".py",
   "mimetype": "text/x-python",
   "name": "python",
   "nbconvert_exporter": "python",
   "pygments_lexer": "ipython3",
   "version": "3.7.4"
  }
 },
 "nbformat": 4,
 "nbformat_minor": 2
}
