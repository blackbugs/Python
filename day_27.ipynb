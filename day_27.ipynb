{
 "cells": [
  {
   "cell_type": "code",
   "execution_count": 6,
   "metadata": {},
   "outputs": [
    {
     "name": "stdout",
     "output_type": "stream",
     "text": [
      "\n",
      "Dict with the use of integer as a key pair:\n",
      "\n",
      "{1: 'Hello', 2: 'and', 3: 'welcome'}\n",
      "\n",
      "\n",
      "\n",
      "Dict with mixed values as a key pair:\n",
      "\n",
      "{'Name': 'denver', 1: [1, 2, 3, 4, 5]}\n",
      "{'ola': 'gunju', 'denever': 'fedsrick', 'atul': 'mangal'}\n"
     ]
    }
   ],
   "source": [
    "#dictionary creation\n",
    "\n",
    "#with integer key pair\n",
    "\n",
    "mssg1 = {1:'Hello', 2:'and', 3:'welcome'}\n",
    "print(\"\\nDict with the use of integer as a key pair:\\n\" )\n",
    "print(mssg1)\n",
    "\n",
    "print(\"\\n\\n\")\n",
    "\n",
    "#with mixed key pair\n",
    "\n",
    "mssg2 = {'Name':'denver', 1:[1,2,3,4,5]}\n",
    "print(\"Dict with mixed values as a key pair:\\n\")\n",
    "print(mssg2)\n",
    "\n",
    "mssg3 = {'ola':'gunju', 'denever':'fedsrick', 'atul':'mangal'} \n",
    "print(mssg3)"
   ]
  },
  {
   "cell_type": "code",
   "execution_count": 9,
   "metadata": {},
   "outputs": [
    {
     "name": "stdout",
     "output_type": "stream",
     "text": [
      "Items in dict. now:\n",
      "{}\n",
      "\n",
      "\n",
      "Dict with the use of dict() method:\n",
      "{1: 'hello and', 2: 'welcome', 3: 'to wonderland !!'}\n",
      "\n",
      "\n",
      "Dict with each item as pair:\n",
      "{1: 'I am', 2: 'ola gunju', 3: 'awadeshiya'}\n"
     ]
    }
   ],
   "source": [
    "#empty dict.\n",
    "\n",
    "mssg4 = {}\n",
    "print(\"Items in dict. now:\")\n",
    "print(mssg4)\n",
    "\n",
    "print(\"\\n\")\n",
    "\n",
    "#with dict() method\n",
    "\n",
    "mssg4 = dict({1:'hello and', 2:'welcome', 3:'to wonderland !!'})\n",
    "print(\"Dict with the use of dict() method:\")\n",
    "print(mssg4)\n",
    "\n",
    "print(\"\\n\")\n",
    "\n",
    "#with each item as a pair\n",
    "\n",
    "mssg4 = dict([(1,'I am'), (2,'ola gunju'), (3,'awadeshiya')])\n",
    "print(\"Dict with each item as pair:\")\n",
    "print(mssg4)"
   ]
  },
  {
   "cell_type": "code",
   "execution_count": 30,
   "metadata": {},
   "outputs": [
    {
     "name": "stdout",
     "output_type": "stream",
     "text": [
      "Nested dictionary :\n",
      "{1: 'Hello', 2: 'everyone!!', 3: {'a': 'welcome', 'b': 'to geeks world', 'c': 'of programming'}}\n",
      "\n",
      "\n",
      "Nested dict another example:\n",
      "{1: 'how are', 2: 'you guys??', 3: {'a': 'welcome', 'b': 'back', 'c': 'Sydney.', 'd': 'Enjoy!!!', 4: {'e': 'denver', 'f': 'is joining', 'g': 'us tonight'}}}\n"
     ]
    }
   ],
   "source": [
    "#nested dictionary\n",
    "\n",
    "mssg5 = {1:'Hello', 2:'everyone!!',\n",
    "        3:{'a':'welcome', 'b':'to geeks world', 'c':'of programming'}}\n",
    "        \n",
    "print(\"Nested dictionary :\")\n",
    "print(mssg5)\n",
    "\n",
    "print(\"\\n\")\n",
    "\n",
    "mssg6 = {1:'how are', 2:'you guys??',\n",
    "         3:{'a':'welcome', 'b':'back', 'c':'Sydney.','d':'Enjoy!!!',\n",
    "         4:{'e':'denver','f':\"is joining\",'g':'us tonight'}}}\n",
    "\n",
    "print(\"Nested dict another example:\")\n",
    "print(mssg6)"
   ]
  },
  {
   "cell_type": "code",
   "execution_count": 36,
   "metadata": {},
   "outputs": [
    {
     "name": "stdout",
     "output_type": "stream",
     "text": [
      "There's now itemsin Dict. :\n",
      "{}\n",
      "\n",
      "\n",
      "Dict after adding 3 elements\n",
      "{0: 'Hello', 1: 'everyone,', 2: 'tonight!'}\n",
      "\n",
      "\n",
      "Ater adding items to single ke apir at one:\n",
      "{0: 'Hello', 1: 'everyone,', 2: 'tonight!', 'key_value': (1, 2, 3, 4)}\n",
      "\n",
      "\n",
      "After replacing the value of existing value in dictionary:\n",
      "{0: 'Hello', 1: 'everyone,', 2: 'Party Hard!!', 'key_value': (1, 2, 3, 4)}\n"
     ]
    }
   ],
   "source": [
    "#adding elements to dictionary\n",
    "\n",
    "mssg7 = {}\n",
    "print(\"There's now items in Dict. :\")\n",
    "print(mssg7)\n",
    "\n",
    "print(\"\\n\")\n",
    "\n",
    "mssg7[0] = 'Hello'\n",
    "mssg7[1] = 'everyone,'\n",
    "mssg7[2] = 'tonight!'\n",
    "\n",
    "print(\"Dict after adding 3 elements\")\n",
    "print(mssg7)\n",
    "\n",
    "print(\"\\n\")\n",
    "\n",
    "mssg7['key_value'] = 1,2,3,4\n",
    "print(\"Ater adding items to single ke apir at one:\")\n",
    "print(mssg7)\n",
    "\n",
    "print(\"\\n\")\n",
    "\n",
    "#to update existing value in dict.\n",
    "\n",
    "mssg7[2] = 'Party Hard!!'\n",
    "print(\"After replacing the value of existing value in dictionary:\")\n",
    "print(mssg7)\n",
    "\n",
    "#adding a nested key pair in dictionary\n",
    "\n",
    "mssg[]"
   ]
  },
  {
   "cell_type": "code",
   "execution_count": null,
   "metadata": {},
   "outputs": [],
   "source": []
  }
 ],
 "metadata": {
  "kernelspec": {
   "display_name": "Python 3",
   "language": "python",
   "name": "python3"
  },
  "language_info": {
   "codemirror_mode": {
    "name": "ipython",
    "version": 3
   },
   "file_extension": ".py",
   "mimetype": "text/x-python",
   "name": "python",
   "nbconvert_exporter": "python",
   "pygments_lexer": "ipython3",
   "version": "3.7.4"
  }
 },
 "nbformat": 4,
 "nbformat_minor": 2
}
