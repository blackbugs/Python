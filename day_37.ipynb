{
 "cells": [
  {
   "cell_type": "code",
   "execution_count": 11,
   "metadata": {},
   "outputs": [
    {
     "name": "stdout",
     "output_type": "stream",
     "text": [
      "ABC\n",
      "M.Tech\n",
      "PQR\n",
      "B.Tech\n",
      "XYZ\n",
      "MBA\n"
     ]
    }
   ],
   "source": [
    "'''\n",
    "Function kinds:\n",
    "3 - Default Arguments\n",
    "\n",
    "'''\n",
    "\n",
    "def display(name,course='B.Tech'):\n",
    "    print(name)\n",
    "    print(course)\n",
    "    \n",
    "    \n",
    "display(name='ABC',course='M.Tech')\n",
    "display(name='PQR') #default argument will be considered\n",
    "display(name='XYZ',course='MBA') \n",
    "\n",
    "#nos. of argument must be same as f.def & f.call"
   ]
  },
  {
   "cell_type": "code",
   "execution_count": 10,
   "metadata": {},
   "outputs": [
    {
     "name": "stdout",
     "output_type": "stream",
     "text": [
      "MBA\n",
      "B.TECH\n",
      "BCA\n",
      "M.TECH\n",
      "PHD\n",
      "PHARMA\n",
      "MBBS\n"
     ]
    }
   ],
   "source": [
    "'''\n",
    "\n",
    "Function kinds - 4) Variable Length Arguments\n",
    "(The lenth of arguments depends on f.call)\n",
    "\n",
    "'''\n",
    "\n",
    "#funct. def\n",
    "\n",
    "def display(*course):\n",
    "    for i in course:\n",
    "        print(i)\n",
    "        \n",
    "        '''By placing (*) as a prefix to the argument of functon defination.  '''\n",
    "        \n",
    "display('MBA','B.TECH','BCA','M.TECH','PHD','PHARMA','MBBS')"
   ]
  },
  {
   "cell_type": "code",
   "execution_count": null,
   "metadata": {},
   "outputs": [],
   "source": []
  }
 ],
 "metadata": {
  "celltoolbar": "Slideshow",
  "kernelspec": {
   "display_name": "Python 3",
   "language": "python",
   "name": "python3"
  },
  "language_info": {
   "codemirror_mode": {
    "name": "ipython",
    "version": 3
   },
   "file_extension": ".py",
   "mimetype": "text/x-python",
   "name": "python",
   "nbconvert_exporter": "python",
   "pygments_lexer": "ipython3",
   "version": "3.7.4"
  }
 },
 "nbformat": 4,
 "nbformat_minor": 2
}
