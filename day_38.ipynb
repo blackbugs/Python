{
 "cells": [
  {
   "cell_type": "code",
   "execution_count": 10,
   "metadata": {},
   "outputs": [
    {
     "name": "stdout",
     "output_type": "stream",
     "text": [
      "w\n",
      " \n"
     ]
    }
   ],
   "source": [
    "big = max('hello world')\n",
    "print(big)\n",
    "\n",
    "\n",
    "small = min('hello world')\n",
    "print(small)"
   ]
  },
  {
   "cell_type": "code",
   "execution_count": 19,
   "metadata": {},
   "outputs": [
    {
     "name": "stdout",
     "output_type": "stream",
     "text": [
      "Europian\n",
      "Sorrry :)\n",
      "Europian\n",
      "English\n",
      "English\n"
     ]
    }
   ],
   "source": [
    "\n",
    "def greet(lang):\n",
    "    if lang == 'es':\n",
    "        print(\"English\")\n",
    "    elif lang == 'sp':\n",
    "        print(\"Europian\")\n",
    "    else:\n",
    "        print('Sorrry :)')\n",
    "\n",
    "        \n",
    "greet('sp')\n",
    "greet('ola')\n",
    "greet('sp')\n",
    "greet('es')\n",
    "greet('es')"
   ]
  },
  {
   "cell_type": "code",
   "execution_count": 25,
   "metadata": {},
   "outputs": [
    {
     "name": "stdout",
     "output_type": "stream",
     "text": [
      "Welcome to GOA, Ola!\n"
     ]
    }
   ],
   "source": [
    "def welcome():\n",
    "    return \"Welcome to GOA,\"\n",
    "\n",
    "print(welcome(),\"Ola\"+\"!\")"
   ]
  },
  {
   "cell_type": "code",
   "execution_count": 26,
   "metadata": {},
   "outputs": [
    {
     "name": "stdout",
     "output_type": "stream",
     "text": [
      "10\n",
      "20\n"
     ]
    }
   ],
   "source": [
    "def func(x):\n",
    "    print(x)\n",
    "    \n",
    "func(10)\n",
    "func(20)"
   ]
  },
  {
   "cell_type": "code",
   "execution_count": 27,
   "metadata": {},
   "outputs": [
    {
     "name": "stdout",
     "output_type": "stream",
     "text": [
      "hello\n"
     ]
    }
   ],
   "source": [
    "def stuff():\n",
    "    print('hello')\n",
    "    return\n",
    "    print('world')\n",
    "\n",
    "stuff()"
   ]
  },
  {
   "cell_type": "code",
   "execution_count": 29,
   "metadata": {},
   "outputs": [
    {
     "name": "stdout",
     "output_type": "stream",
     "text": [
      "2\n"
     ]
    }
   ],
   "source": [
    "def addtwo(a, b):\n",
    "    added = a + b\n",
    "    return a\n",
    "x = addtwo(2, 7)\n",
    "print(x)"
   ]
  },
  {
   "cell_type": "code",
   "execution_count": 36,
   "metadata": {},
   "outputs": [
    {
     "name": "stdout",
     "output_type": "stream",
     "text": [
      "Enter Hours:45\n",
      "Enter the Rate:10.50\n",
      "Pay  498.75\n"
     ]
    },
    {
     "data": {
      "text/plain": [
       "()"
      ]
     },
     "execution_count": 36,
     "metadata": {},
     "output_type": "execute_result"
    }
   ],
   "source": [
    "def computepay():\n",
    "    hrs = input(\"Enter Hours:\")\n",
    "    h = float(hrs)\n",
    "    xx = input(\"Enter the Rate:\")\n",
    "    x = float(xx)\n",
    "    if h <= 40:\n",
    "        print( h  * x)\n",
    "    elif h > 40:\n",
    "        y = 40* x + (h-40)*1.5*x\n",
    "        print(\"Pay \",y)\n",
    "        return()\n",
    "computepay()"
   ]
  },
  {
   "cell_type": "code",
   "execution_count": null,
   "metadata": {},
   "outputs": [],
   "source": []
  }
 ],
 "metadata": {
  "kernelspec": {
   "display_name": "Python 3",
   "language": "python",
   "name": "python3"
  },
  "language_info": {
   "codemirror_mode": {
    "name": "ipython",
    "version": 3
   },
   "file_extension": ".py",
   "mimetype": "text/x-python",
   "name": "python",
   "nbconvert_exporter": "python",
   "pygments_lexer": "ipython3",
   "version": "3.7.4"
  }
 },
 "nbformat": 4,
 "nbformat_minor": 2
}
