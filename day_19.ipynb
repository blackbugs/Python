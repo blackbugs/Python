{
 "cells": [
  {
   "cell_type": "code",
   "execution_count": 2,
   "metadata": {},
   "outputs": [
    {
     "name": "stdout",
     "output_type": "stream",
     "text": [
      "Milk\n",
      "Spices\n",
      "Vegetables\n",
      "Fruits\n",
      "Costmetics\n"
     ]
    }
   ],
   "source": [
    "#tuples\n",
    "\n",
    "products=('milk','spices','vegetables','fruits','costmetics')\n",
    "\n",
    "for product in products:\n",
    "    print(product.title())"
   ]
  },
  {
   "cell_type": "code",
   "execution_count": 4,
   "metadata": {},
   "outputs": [
    {
     "name": "stdout",
     "output_type": "stream",
     "text": [
      "the original value of tuple:\n",
      "20\n",
      "30\n",
      "\n",
      "\n",
      "The new value in tuple:\n",
      "40\n",
      "50\n"
     ]
    }
   ],
   "source": [
    "#chanmge in the vaue of tuples\n",
    "\n",
    "lb=(20,30)\n",
    "\n",
    "print('the original value of tuple:')\n",
    "for lbs in lb:\n",
    "    print(lbs)\n",
    "    \n",
    "print('\\n')\n",
    "lb=(40,50)\n",
    "print('The new value in tuple:') #overwriting a variable is possible in python3\n",
    "for kbs in lb:\n",
    "    print(kbs)\n",
    "    \n"
   ]
  },
  {
   "cell_type": "code",
   "execution_count": 7,
   "metadata": {},
   "outputs": [
    {
     "name": "stdout",
     "output_type": "stream",
     "text": [
      "Famous buffet style restaurant food menu : \n",
      "SAMBHAR\n",
      "RAJMA\n",
      "DHOKLA\n",
      "IDLI\n",
      "MANCHURIAN\n",
      "\n",
      "\n",
      "Now Buffet Restaurant offers new cusines:\n",
      "BDA PAV\n",
      "DHOSHA\n",
      "CHIKEN LOLIPOP\n",
      "MALAI CHICKEN\n",
      "TANDOORI CHICKEN\n"
     ]
    }
   ],
   "source": [
    "buffet=('sambhar','rajma','dhokla','idli','manchurian')\n",
    "\n",
    "print('Famous buffet style restaurant food menu : ')\n",
    "for food in buffet:\n",
    "    print(food.upper())\n",
    "print('\\n')\n",
    "buffet=('bda pav','dhosha','chiken lolipop','malai chicken','tandoori chicken')\n",
    "print('Now Buffet Restaurant offers new cusines:')\n",
    "for new in buffet:\n",
    "    print(new.upper())"
   ]
  },
  {
   "cell_type": "code",
   "execution_count": null,
   "metadata": {},
   "outputs": [],
   "source": [
    "  "
   ]
  }
 ],
 "metadata": {
  "kernelspec": {
   "display_name": "Python 3",
   "language": "python",
   "name": "python3"
  },
  "language_info": {
   "codemirror_mode": {
    "name": "ipython",
    "version": 3
   },
   "file_extension": ".py",
   "mimetype": "text/x-python",
   "name": "python",
   "nbconvert_exporter": "python",
   "pygments_lexer": "ipython3",
   "version": "3.7.4"
  }
 },
 "nbformat": 4,
 "nbformat_minor": 2
}
