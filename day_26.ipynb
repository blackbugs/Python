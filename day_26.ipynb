{
 "cells": [
  {
   "cell_type": "code",
   "execution_count": 9,
   "metadata": {},
   "outputs": [
    {
     "name": "stdout",
     "output_type": "stream",
     "text": [
      "Current items in dictionary users are: {1: 'ayush', 2: 'ola', 3: 'montu', 4: 'denever'}\n",
      "\n",
      "\n",
      "Items remain after removal in users dictionary are:{3: 'montu'}\n"
     ]
    }
   ],
   "source": [
    "#delete value key pair from dictionary\n",
    "\n",
    "users = {1:'ayush', 2:'ola', 3:'montu', 4:'denever'}\n",
    "\n",
    "print(\"Current items in dictionary users are:\",users)\n",
    "print(\"\\n\")\n",
    "\n",
    "#use del function to delete value pair\n",
    "\n",
    "del users[2]\n",
    "del users[1]\n",
    "del users[4]\n",
    "\n",
    "print(\"Items remain after removal in users dictionary are:\"+str(users))\n",
    "\n",
    "#note: deleted value are permanentely removed"
   ]
  },
  {
   "cell_type": "code",
   "execution_count": 24,
   "metadata": {},
   "outputs": [
    {
     "name": "stdout",
     "output_type": "stream",
     "text": [
      "{'utkarsh': 'python', 'tinu': 'c#', 'awasthi': 'data structure'}\n",
      "Awasthi is intrested in data structure\n"
     ]
    }
   ],
   "source": [
    "#to store similar items in dictioanry\n",
    "\n",
    "students_fav = {\n",
    "    'utkarsh':'python',\n",
    "    'tinu'   :'c#',\n",
    "    'awasthi':'data structure'\n",
    "}\n",
    "\n",
    "print(students_fav)\n",
    "print(\"Awasthi is intrested in \"+students_fav['awasthi'])\n",
    "\n",
    "# SYNTAX : to print simsilar items store in ..\n",
    "# dictionary........print(\"\" +dictionary_name['index value]')"
   ]
  },
  {
   "cell_type": "code",
   "execution_count": null,
   "metadata": {},
   "outputs": [],
   "source": [
    "#exerc. q1\n",
    "\n",
    "frnd = {first_name:'Abhisek', last_name:'awasthi', age:'24', city:'auraiya'}\n",
    "\n"
   ]
  }
 ],
 "metadata": {
  "kernelspec": {
   "display_name": "Python 3",
   "language": "python",
   "name": "python3"
  },
  "language_info": {
   "codemirror_mode": {
    "name": "ipython",
    "version": 3
   },
   "file_extension": ".py",
   "mimetype": "text/x-python",
   "name": "python",
   "nbconvert_exporter": "python",
   "pygments_lexer": "ipython3",
   "version": "3.7.4"
  }
 },
 "nbformat": 4,
 "nbformat_minor": 2
}
