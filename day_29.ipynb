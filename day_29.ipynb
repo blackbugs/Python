{
 "cells": [
  {
   "cell_type": "code",
   "execution_count": null,
   "metadata": {},
   "outputs": [],
   "source": [
    "#int as input( fro numeric values )\n",
    "\n",
    "height = int(input(\"How tall you are, in inches? \"))\n",
    "\n",
    "if height >=12:\n",
    "    print(\"You are an adult.\")\n",
    "else:\n",
    "    print(\"You are a kid.\")"
   ]
  },
  {
   "cell_type": "code",
   "execution_count": null,
   "metadata": {},
   "outputs": [],
   "source": [
    "4%3\n",
    "\n",
    "#modulo operator always shows thre remainder"
   ]
  },
  {
   "cell_type": "code",
   "execution_count": null,
   "metadata": {},
   "outputs": [],
   "source": [
    "number = int(input(\"Enter a no and I'll tell you its even or odd : \"))\n",
    "\n",
    "if number % 2 == 0:\n",
    "    print(\"It's a even no.\")\n",
    "else:\n",
    "    print(\"It's a odd no.\")"
   ]
  },
  {
   "cell_type": "code",
   "execution_count": null,
   "metadata": {},
   "outputs": [],
   "source": [
    "#exercise q1\n",
    "\n",
    "user_choice = input(\"What kind of car do you want? \")\n",
    "\n",
    "print(\"\\n\")\n",
    "\n",
    "print(\"Let me see if I can find \"+ user_choice.title()+\" for you.\")"
   ]
  },
  {
   "cell_type": "code",
   "execution_count": null,
   "metadata": {},
   "outputs": [],
   "source": [
    "capacity = int(input(\"How many people are there : \"))\n",
    "\n",
    "if capacity > 8 :\n",
    "    print(\"You'll have to wait till the table is free, sorry for inconvience.\")\n",
    "else :\n",
    "    print(\"You can go further, enjoy !\")"
   ]
  },
  {
   "cell_type": "code",
   "execution_count": null,
   "metadata": {},
   "outputs": [],
   "source": [
    "no = int(input(\"Enter a no and I'll tell you is it multiple of 10 or not :\"))\n",
    "\n",
    "if no %10 == 0:\n",
    "    print(\"Yes it is.\")\n",
    "else :\n",
    "    print(\"It's not.\")"
   ]
  },
  {
   "cell_type": "code",
   "execution_count": 3,
   "metadata": {
    "collapsed": true
   },
   "outputs": [
    {
     "name": "stdout",
     "output_type": "stream",
     "text": [
      "1\n",
      "2\n",
      "3\n",
      "4\n",
      "5\n"
     ]
    }
   ],
   "source": [
    "#while loops\n",
    "\n",
    "current_no = 1\n",
    "while current_no <= 5:\n",
    "    print(current_no)\n",
    "    current_no += 1"
   ]
  },
  {
   "cell_type": "code",
   "execution_count": 5,
   "metadata": {
    "collapsed": true
   },
   "outputs": [
    {
     "name": "stdout",
     "output_type": "stream",
     "text": [
      "Tell me something and I'll repeat back to you : Press 'quit' to stop this program.hello\n",
      "hello\n",
      "Tell me something and I'll repeat back to you : Press 'quit' to stop this program.are u in loop\n",
      "are u in loop\n",
      "Tell me something and I'll repeat back to you : Press 'quit' to stop this program.hola\n",
      "hola\n",
      "Tell me something and I'll repeat back to you : Press 'quit' to stop this program.all good\n",
      "all good\n",
      "Tell me something and I'll repeat back to you : Press 'quit' to stop this program.where ar eu now\n",
      "where ar eu now\n",
      "Tell me something and I'll repeat back to you : Press 'quit' to stop this program.i am lost\n",
      "i am lost\n",
      "Tell me something and I'll repeat back to you : Press 'quit' to stop this program.somewhere\n",
      "somewhere\n",
      "Tell me something and I'll repeat back to you : Press 'quit' to stop this program.what??\n",
      "what??\n",
      "Tell me something and I'll repeat back to you : Press 'quit' to stop this program.yes man\n",
      "yes man\n",
      "Tell me something and I'll repeat back to you : Press 'quit' to stop this program.ok am going\n",
      "ok am going\n",
      "Tell me something and I'll repeat back to you : Press 'quit' to stop this program.olllll\n",
      "olllll\n",
      "Tell me something and I'll repeat back to you : Press 'quit' to stop this program.quit\n",
      "quit\n"
     ]
    }
   ],
   "source": [
    "prompt = \"Tell me something and I'll repeat back to you : \"\n",
    "prompt += \"Press 'quit' to stop this program.\"\n",
    "\n",
    "message =''\n",
    "\n",
    "while message != 'quit':\n",
    "    message = input(prompt)\n",
    "    print(message)"
   ]
  },
  {
   "cell_type": "code",
   "execution_count": null,
   "metadata": {},
   "outputs": [],
   "source": []
  }
 ],
 "metadata": {
  "kernelspec": {
   "display_name": "Python 3",
   "language": "python",
   "name": "python3"
  },
  "language_info": {
   "codemirror_mode": {
    "name": "ipython",
    "version": 3
   },
   "file_extension": ".py",
   "mimetype": "text/x-python",
   "name": "python",
   "nbconvert_exporter": "python",
   "pygments_lexer": "ipython3",
   "version": "3.7.4"
  }
 },
 "nbformat": 4,
 "nbformat_minor": 2
}
