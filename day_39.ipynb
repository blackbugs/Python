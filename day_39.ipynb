{
 "cells": [
  {
   "cell_type": "code",
   "execution_count": 8,
   "metadata": {},
   "outputs": [
    {
     "name": "stdout",
     "output_type": "stream",
     "text": [
      "12\n",
      "11\n",
      "10\n",
      "9\n",
      "8\n",
      "7\n",
      "6\n",
      "5\n",
      "4\n",
      "3\n",
      "2\n",
      "1\n",
      "Blastoff\n",
      "0\n"
     ]
    }
   ],
   "source": [
    "n = 12\n",
    "\n",
    "while n > 0:\n",
    "    print(n)\n",
    "    n=n-1\n",
    "  \n",
    "print('Blastoff')\n",
    "print(n)"
   ]
  },
  {
   "cell_type": "code",
   "execution_count": 11,
   "metadata": {
    "collapsed": true
   },
   "outputs": [
    {
     "name": "stdout",
     "output_type": "stream",
     "text": [
      "Before  -1\n",
      "2 2\n",
      "3 3\n",
      "12 12\n",
      "334 334\n",
      "334 4\n",
      "334 34\n",
      "3423 3423\n",
      "3423 9\n",
      "9999 9999\n",
      "After 9999\n"
     ]
    }
   ],
   "source": [
    "bigger = -1\n",
    "\n",
    "print(\"Before \",bigger)\n",
    "\n",
    "for big in [2,3,12,334,4,34,3423,9,9999]:\n",
    "    if big > bigger:\n",
    "        bigger = big\n",
    "    print(bigger, big)\n",
    "print(\"After\",big)"
   ]
  },
  {
   "cell_type": "code",
   "execution_count": 14,
   "metadata": {},
   "outputs": [
    {
     "name": "stdout",
     "output_type": "stream",
     "text": [
      "before 0\n",
      "1 0\n",
      "2 22\n",
      "3 32\n",
      "4 42\n",
      "5 545\n",
      "6 64\n",
      "7 2\n",
      "8 21\n",
      "9 534\n",
      "after 9\n"
     ]
    }
   ],
   "source": [
    "#counting a loop \n",
    "'''coursera python lecture by Dr. Chuk'''\n",
    "\n",
    "count = 0\n",
    "print(\"before\",count)\n",
    "for thing  in [0,22,32,42,545,64,2,21,534]:\n",
    "    count = count + 1\n",
    "    print(count, thing)\n",
    "print(\"after\",count)"
   ]
  },
  {
   "cell_type": "code",
   "execution_count": 18,
   "metadata": {},
   "outputs": [
    {
     "name": "stdout",
     "output_type": "stream",
     "text": [
      "Before : 0\n",
      "2 2\n",
      "5 3\n",
      "37 32\n",
      "80 43\n",
      "135 55\n",
      "138 3\n",
      "192 54\n",
      "After : 192\n"
     ]
    }
   ],
   "source": [
    "#summing with loop\n",
    "\n",
    "count = 0\n",
    "\n",
    "print('Before :',count)\n",
    "for things in [2,3,32,43,55,3,54]:\n",
    "    count = count + things\n",
    "    print(count, things)\n",
    "print('After :',count)\n"
   ]
  },
  {
   "cell_type": "code",
   "execution_count": 19,
   "metadata": {},
   "outputs": [
    {
     "name": "stdout",
     "output_type": "stream",
     "text": [
      "Before : 0 0\n",
      "1 2 2\n",
      "2 34 32\n",
      "3 35 1\n",
      "4 38 3\n",
      "5 41 3\n",
      "6 45 4\n",
      "7 79 34\n",
      "8 81 2\n",
      "9 85 4\n",
      "10 307 222\n",
      "After : 10 307 222\n"
     ]
    }
   ],
   "source": [
    "#practice question\n",
    "\n",
    "count = 0\n",
    "sum = 0\n",
    "\n",
    "print('Before :',count,sum)\n",
    "for value in [2,32,1,3,3,4,34,2,4,222]:\n",
    "    count = count + 1\n",
    "    sum = sum + value\n",
    "    print(count, sum,value)\n",
    "    \n",
    "print('After :', count, sum,value)\n"
   ]
  },
  {
   "cell_type": "code",
   "execution_count": 32,
   "metadata": {},
   "outputs": [
    {
     "name": "stdout",
     "output_type": "stream",
     "text": [
      "Before : False\n",
      "True 21\n",
      "True 32\n",
      "True 2\n",
      "True 43\n",
      "True 32\n",
      "True 4234\n",
      "True 3\n",
      "After found : 3\n"
     ]
    }
   ],
   "source": [
    "#using a boolean expression for looping on condition based\n",
    "\n",
    "found = False\n",
    "\n",
    "print('Before :',found)\n",
    "for nos in [21,32,2,43,32,4234,3]:\n",
    "    if nos == 21 :\n",
    "        found = True\n",
    "    print(found,nos)\n",
    "print('After found :',nos)"
   ]
  },
  {
   "cell_type": "code",
   "execution_count": null,
   "metadata": {},
   "outputs": [],
   "source": []
  }
 ],
 "metadata": {
  "kernelspec": {
   "display_name": "Python 3",
   "language": "python",
   "name": "python3"
  },
  "language_info": {
   "codemirror_mode": {
    "name": "ipython",
    "version": 3
   },
   "file_extension": ".py",
   "mimetype": "text/x-python",
   "name": "python",
   "nbconvert_exporter": "python",
   "pygments_lexer": "ipython3",
   "version": "3.7.4"
  }
 },
 "nbformat": 4,
 "nbformat_minor": 2
}
