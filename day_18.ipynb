{
 "cells": [
  {
   "cell_type": "code",
   "execution_count": 5,
   "metadata": {},
   "outputs": [
    {
     "name": "stdout",
     "output_type": "stream",
     "text": [
      "['bhola', 'mady']\n"
     ]
    }
   ],
   "source": [
    "#list slicing\n",
    "\n",
    "frnds=['olsa','bhola','mady','andy','rohit']\n",
    "print(frnds[1:3])"
   ]
  },
  {
   "cell_type": "code",
   "execution_count": 7,
   "metadata": {},
   "outputs": [
    {
     "name": "stdout",
     "output_type": "stream",
     "text": [
      "['olsa', 'bhola']\n"
     ]
    }
   ],
   "source": [
    "frnds=['olsa','bhola','mady','andy','rohit']\n",
    "print(frnds[:2])"
   ]
  },
  {
   "cell_type": "code",
   "execution_count": 9,
   "metadata": {},
   "outputs": [
    {
     "name": "stdout",
     "output_type": "stream",
     "text": [
      "['mady', 'andy', 'rohit']\n"
     ]
    }
   ],
   "source": [
    "frnds=['olsa','bhola','mady','andy','rohit']\n",
    "print(frnds[2:])"
   ]
  },
  {
   "cell_type": "code",
   "execution_count": 13,
   "metadata": {},
   "outputs": [
    {
     "name": "stdout",
     "output_type": "stream",
     "text": [
      "['mady', 'andy', 'rohit']\n"
     ]
    }
   ],
   "source": [
    "frnds=['olsa','bhola','mady','andy','rohit']\n",
    "print(frnds[-3:])"
   ]
  },
  {
   "cell_type": "code",
   "execution_count": 19,
   "metadata": {},
   "outputs": [
    {
     "name": "stdout",
     "output_type": "stream",
     "text": [
      "Here's the list of final candidates:\n",
      "Ola\n",
      "Bhola\n",
      "Mady\n"
     ]
    }
   ],
   "source": [
    "#for loop in slicing\n",
    "frnds=['ola','bhola','mady','andy','rohit']\n",
    "print(\"Here's the list of final candidates:\")\n",
    "for frnd in frnds[:3]:\n",
    "    [print(frnd.title())]"
   ]
  },
  {
   "cell_type": "code",
   "execution_count": 21,
   "metadata": {},
   "outputs": [
    {
     "name": "stdout",
     "output_type": "stream",
     "text": [
      "My close friends are:\n",
      "['olsa', 'bhola', 'mady', 'andy', 'rohit']\n",
      "\n",
      "\n",
      "My kaminey friends are:\n",
      "['olsa', 'bhola', 'mady', 'andy', 'rohit']\n"
     ]
    }
   ],
   "source": [
    "#to copy whole list items\n",
    "frnds=['olsa','bhola','mady','andy','rohit']\n",
    "chdy_budy=frnds[:]\n",
    "\n",
    "print(\"My close friends are:\")\n",
    "print(frnds)\n",
    "print('\\n')\n",
    "\n",
    "print(\"My kaminey friends are:\")\n",
    "print(chdy_budy)"
   ]
  },
  {
   "cell_type": "code",
   "execution_count": 25,
   "metadata": {},
   "outputs": [
    {
     "name": "stdout",
     "output_type": "stream",
     "text": [
      "My close friends are:\n",
      "['olsa', 'bhola', 'mady', 'andy', 'rohit', 'Mr. Hola']\n",
      "\n",
      "\n",
      "My kaminey friends are:\n",
      "['olsa', 'bhola', 'mady', 'andy', 'rohit', 'Mr. golu']\n"
     ]
    }
   ],
   "source": [
    "#new item in copyied  list, to prove that both  list are seperate\n",
    "frnds=['olsa','bhola','mady','andy','rohit']\n",
    "chdy_budy=frnds[:]\n",
    "frnds.append('Mr. Hola')\n",
    "chdy_budy.append('Mr. golu')\n",
    "\n",
    "print(\"My close friends are:\")\n",
    "print(frnds)\n",
    "print('\\n')\n",
    "\n",
    "print(\"My kaminey friends are:\")\n",
    "print(chdy_budy)\n",
    "\n",
    "\n"
   ]
  },
  {
   "cell_type": "code",
   "execution_count": 27,
   "metadata": {},
   "outputs": [
    {
     "name": "stdout",
     "output_type": "stream",
     "text": [
      "The first three elements are:\n",
      "['1olsa', '2bhola', '3mady']\n",
      "The three items of the middle  of the list are:\n",
      "['2bhola', '3mady', '4andy']\n",
      "The last items of the list are:\n",
      "['3mady', '4andy', '5rohit']\n"
     ]
    }
   ],
   "source": [
    "#q1\n",
    "frnds=['1olsa','2bhola','3mady','4andy','5rohit']\n",
    "print('The first three elements are:')\n",
    "print(frnds[:3])\n",
    "print('The three items of the middle  of the list are:')\n",
    "print(frnds[1:4])\n",
    "print('The last items of the list are:')\n",
    "print(frnds[-3:])\n"
   ]
  },
  {
   "cell_type": "code",
   "execution_count": 29,
   "metadata": {},
   "outputs": [
    {
     "name": "stdout",
     "output_type": "stream",
     "text": [
      "Olsa\n",
      "Bhola\n",
      "Mady\n",
      "Andy\n",
      "Rohit\n",
      "Raju\n",
      "My childhood frnds are:\n",
      "['olsa', 'bhola', 'mady', 'andy', 'rohit', 'raju']\n",
      "My cse friends are:\n",
      "['olsa', 'bhola', 'mady', 'andy', 'rohit', 'satyam']\n"
     ]
    }
   ],
   "source": [
    "#q2\n",
    "frnds=['olsa','bhola','mady','andy','rohit']\n",
    "csfrnds=frnds[:]\n",
    "\n",
    "frnds.append('raju')\n",
    "csfrnds.append('satyam')\n",
    "\n",
    "for frnd in frnds[:]:\n",
    "    print(frnd.title())\n",
    "print('My childhood frnds are:')\n",
    "print(frnds)\n",
    "print('My cse friends are:')\n",
    "print(csfrnds)"
   ]
  },
  {
   "cell_type": "code",
   "execution_count": 32,
   "metadata": {},
   "outputs": [
    {
     "name": "stdout",
     "output_type": "stream",
     "text": [
      "200\n",
      "400\n"
     ]
    }
   ],
   "source": [
    "#tuples concept is to make immutable list for specific cases like\n",
    "\n",
    "lb=(400,200)\n",
    "print(lb[1])\n",
    "print(lb[0])"
   ]
  },
  {
   "cell_type": "code",
   "execution_count": null,
   "metadata": {},
   "outputs": [],
   "source": []
  }
 ],
 "metadata": {
  "kernelspec": {
   "display_name": "Python 3",
   "language": "python",
   "name": "python3"
  },
  "language_info": {
   "codemirror_mode": {
    "name": "ipython",
    "version": 3
   },
   "file_extension": ".py",
   "mimetype": "text/x-python",
   "name": "python",
   "nbconvert_exporter": "python",
   "pygments_lexer": "ipython3",
   "version": "3.7.4"
  }
 },
 "nbformat": 4,
 "nbformat_minor": 2
}
