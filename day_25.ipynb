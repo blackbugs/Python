{
 "cells": [
  {
   "cell_type": "code",
   "execution_count": 7,
   "metadata": {},
   "outputs": [
    {
     "name": "stdout",
     "output_type": "stream",
     "text": [
      "FERRARI\n",
      "BMW\n"
     ]
    }
   ],
   "source": [
    "#accesing value in dictionaries\n",
    "\n",
    "cars = {1:'bmw', 2:'audi', 3:'ferrari', 4:'jaguar', 5:'aston martin', 6:'rolls royce'}\n",
    "\n",
    "print(cars[3].upper())\n",
    "print(cars[1].upper())"
   ]
  },
  {
   "cell_type": "code",
   "execution_count": 6,
   "metadata": {
    "collapsed": true
   },
   "outputs": [
    {
     "name": "stdout",
     "output_type": "stream",
     "text": [
      "BMW\n",
      "AUDI\n",
      "FERRARI\n",
      "JAGUAR\n",
      "ASTON MARTIN\n",
      "ROLLS ROYCE\n"
     ]
    }
   ],
   "source": [
    "#Accesing every value in dictionaries\n",
    "\n",
    "cars = {1:'bmw', 2:'audi', 3:'ferrari', 4:'jaguar', 5:'aston martin', 6:'rolls royce'}\n",
    "n =1 \n",
    "for car in cars:\n",
    "    print(cars[n].upper())\n",
    "    n=n+1"
   ]
  },
  {
   "cell_type": "code",
   "execution_count": 10,
   "metadata": {},
   "outputs": [
    {
     "name": "stdout",
     "output_type": "stream",
     "text": [
      "current value in dictionary: {1: 'hello', 2: 'i am', 3: 'ola'}\n",
      "\n",
      "\n",
      "New value in llist: {1: 'hello', 2: 'i am', 3: 'ola', '4': 'gunju', '5': 'audhesia'}\n"
     ]
    }
   ],
   "source": [
    "#adding new value in list\n",
    "\n",
    "user1 = {1:'hello', 2:'i am', 3:'ola'}\n",
    "print(\"current value in dictionary:\",user1)\n",
    "\n",
    "#to add new value using subscript method\n",
    "\n",
    "user1['4'] = 'gunju'\n",
    "user1['5'] = 'audhesia'\n",
    "\n",
    "print(\"\\n\")\n",
    "print(\"New value in llist:\",user1)"
   ]
  },
  {
   "cell_type": "code",
   "execution_count": 17,
   "metadata": {},
   "outputs": [
    {
     "name": "stdout",
     "output_type": "stream",
     "text": [
      "Current value in dictionary: {1: 'tinu', 2: 'is', 3: 'miet', 4: 'topper!'}\n",
      "{1: 'tinu', 2: 'is', 3: 'miet', 4: 'topper!', 5: 'Not for', 6: 'once', 7: ', for all sem!', 'new1': 'portal', 'new2': 'fuck yeah'}\n"
     ]
    }
   ],
   "source": [
    "#method 2 for adding  new values in dictionaries\n",
    "\n",
    "user2 = {1:'tinu', 2:'is', 3:'miet', 4:'topper!'}\n",
    "\n",
    "print(\"Current value in dictionary:\",user2)\n",
    "\n",
    "#adding new value pair using update() method\n",
    "\n",
    "user_new = {5:'Not for', 6:'once', 7:', for all sem!'}\n",
    "\n",
    "user2.update(user_new)\n",
    "user2.update(new1 = 'portal')\n",
    "user2.update(new2 = 'yeah')\n",
    "print(user2)"
   ]
  },
  {
   "cell_type": "code",
   "execution_count": null,
   "metadata": {},
   "outputs": [],
   "source": []
  }
 ],
 "metadata": {
  "kernelspec": {
   "display_name": "Python 3",
   "language": "python",
   "name": "python3"
  },
  "language_info": {
   "codemirror_mode": {
    "name": "ipython",
    "version": 3
   },
   "file_extension": ".py",
   "mimetype": "text/x-python",
   "name": "python",
   "nbconvert_exporter": "python",
   "pygments_lexer": "ipython3",
   "version": "3.7.4"
  }
 },
 "nbformat": 4,
 "nbformat_minor": 2
}
