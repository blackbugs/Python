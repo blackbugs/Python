{
 "cells": [
  {
   "cell_type": "code",
   "execution_count": 5,
   "metadata": {},
   "outputs": [
    {
     "name": "stdout",
     "output_type": "stream",
     "text": [
      "Inside the user define function:  20\n",
      "Outside the user define function:  20\n"
     ]
    }
   ],
   "source": [
    "#global variables\n",
    "\n",
    "a = 20 #declared as a global variable\n",
    "\n",
    "'''Lets see how it works'''\n",
    "\n",
    "def usr_dfn():\n",
    "    #this will call the by user define function call\n",
    "    print(\"Inside the user define function: \",a)\n",
    "\n",
    "usr_dfn()\n",
    "#it's outside the user drfine and the value still the same\n",
    "print(\"Outside the user define function: \",a)"
   ]
  },
  {
   "cell_type": "code",
   "execution_count": 9,
   "metadata": {},
   "outputs": [
    {
     "name": "stdout",
     "output_type": "stream",
     "text": [
      "Global variable 'b'  30\n",
      "local variable 'c'  40\n"
     ]
    },
    {
     "ename": "NameError",
     "evalue": "name 'c' is not defined",
     "output_type": "error",
     "traceback": [
      "\u001b[1;31m---------------------------------------------------------------------------\u001b[0m",
      "\u001b[1;31mNameError\u001b[0m                                 Traceback (most recent call last)",
      "\u001b[1;32m<ipython-input-9-e678b15f142a>\u001b[0m in \u001b[0;36m<module>\u001b[1;34m\u001b[0m\n\u001b[0;32m     10\u001b[0m \u001b[1;33m\u001b[0m\u001b[0m\n\u001b[0;32m     11\u001b[0m \u001b[0mfnctn\u001b[0m\u001b[1;33m(\u001b[0m\u001b[1;33m)\u001b[0m\u001b[1;33m\u001b[0m\u001b[1;33m\u001b[0m\u001b[0m\n\u001b[1;32m---> 12\u001b[1;33m \u001b[0mprint\u001b[0m\u001b[1;33m(\u001b[0m\u001b[1;34m\"Local variable 'c' \"\u001b[0m\u001b[1;33m,\u001b[0m\u001b[0mc\u001b[0m\u001b[1;33m)\u001b[0m\u001b[1;33m\u001b[0m\u001b[1;33m\u001b[0m\u001b[0m\n\u001b[0m\u001b[0;32m     13\u001b[0m \u001b[1;31m#Error while executing last line of code\u001b[0m\u001b[1;33m\u001b[0m\u001b[1;33m\u001b[0m\u001b[1;33m\u001b[0m\u001b[0m\n",
      "\u001b[1;31mNameError\u001b[0m: name 'c' is not defined"
     ]
    }
   ],
   "source": [
    "#local vs global demonstration\n",
    "\n",
    "b = 30\n",
    "#global variable\n",
    "\n",
    "def fnctn():\n",
    "    c = 40\n",
    "    print(\"Global variable 'b' \",b)\n",
    "    print(\"local variable 'c' \",c)\n",
    "\n",
    "fnctn() \n",
    "print(\"Local variable 'c' \",c)\n",
    "#Error while executing last line of code"
   ]
  },
  {
   "cell_type": "code",
   "execution_count": 12,
   "metadata": {},
   "outputs": [
    {
     "name": "stdout",
     "output_type": "stream",
     "text": [
      "20 30\n",
      "30 20\n"
     ]
    }
   ],
   "source": [
    "#kinds of arguments\n",
    "\n",
    "'''1 : Required Arguments'''\n",
    "\n",
    "def nos(a,b):\n",
    "    print(a,b)\n",
    "nos('20','30') #same order/mapping rule applied that assign the value accordingly\n",
    "\n",
    "'''2 : Keyword Argument'''\n",
    "\n",
    "nos(a='30',b='20') #Initialization is order free\n",
    "                   #keyword(name) should only be specify\n"
   ]
  },
  {
   "cell_type": "code",
   "execution_count": null,
   "metadata": {},
   "outputs": [],
   "source": []
  }
 ],
 "metadata": {
  "kernelspec": {
   "display_name": "Python 3",
   "language": "python",
   "name": "python3"
  },
  "language_info": {
   "codemirror_mode": {
    "name": "ipython",
    "version": 3
   },
   "file_extension": ".py",
   "mimetype": "text/x-python",
   "name": "python",
   "nbconvert_exporter": "python",
   "pygments_lexer": "ipython3",
   "version": "3.7.4"
  }
 },
 "nbformat": 4,
 "nbformat_minor": 2
}
