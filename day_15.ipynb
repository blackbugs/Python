{
 "cells": [
  {
   "cell_type": "code",
   "execution_count": 18,
   "metadata": {},
   "outputs": [
    {
     "name": "stdout",
     "output_type": "stream",
     "text": [
      "This element is selected -\n",
      "f\n",
      "Out of all these elements\n",
      "['a', 'b', 'd', 'f']\n",
      "Our total nominated contestants are:\n"
     ]
    },
    {
     "data": {
      "text/plain": [
       "4"
      ]
     },
     "execution_count": 18,
     "metadata": {},
     "output_type": "execute_result"
    }
   ],
   "source": [
    "#index based common errors\n",
    "books2=['a','b','d','f']\n",
    "print('This element is selected -')\n",
    "print(books2[-1])\n",
    "print('Out of all these elements')\n",
    "print(books2)\n",
    "\n",
    "print('Our total nominated contestants are:')\n",
    "len(books2)"
   ]
  },
  {
   "cell_type": "code",
   "execution_count": 26,
   "metadata": {},
   "outputs": [
    {
     "name": "stdout",
     "output_type": "stream",
     "text": [
      "I am  a\n",
      "I am  b\n",
      "I am  d\n",
      "I am  f\n"
     ]
    }
   ],
   "source": [
    "#for loop with list items\n",
    "\n",
    "books2=['a','b','d','f']\n",
    "\n",
    "for book in books2:\n",
    "    print('I am ',book)"
   ]
  },
  {
   "cell_type": "code",
   "execution_count": 34,
   "metadata": {},
   "outputs": [
    {
     "name": "stdout",
     "output_type": "stream",
     "text": [
      "I am \"A\" here!!!\n",
      "I am \"B\" here!!!\n",
      "I am \"D\" here!!!\n",
      "I am \"F\" here!!!\n"
     ]
    }
   ],
   "source": [
    "#for loop with list items\n",
    "\n",
    "books2=['a','b','d','f']\n",
    "\n",
    "for book in books2:\n",
    "    print('I am \"'+book.title()+ '\" here!!!')"
   ]
  },
  {
   "cell_type": "code",
   "execution_count": 57,
   "metadata": {},
   "outputs": [
    {
     "name": "stdout",
     "output_type": "stream",
     "text": [
      "Sonu Nigam is coming to staage all the way up!!!\n",
      " Make some noise guyssssssss\n",
      "\n",
      "\n",
      "Himesh Reshamiya is coming to staage all the way up!!!\n",
      " Make some noise guyssssssss\n",
      "\n",
      "\n",
      "Thank you everybody for  making this concert a great sucess\n",
      "Love you all.\n"
     ]
    }
   ],
   "source": [
    "#for loop with list items\n",
    "\n",
    "singers=['sonu nigam','himesh reshamiya']\n",
    "\n",
    "for singer in singers:\n",
    "    print(singer.title()+\" is coming to staage all the way up!!!\\n Make some noise guyssssssss\")\n",
    "    print('\\n')\n",
    "print(\"Thank you everybody for  making this concert a great sucess\\nLove you all.\")"
   ]
  },
  {
   "cell_type": "code",
   "execution_count": 56,
   "metadata": {},
   "outputs": [
    {
     "name": "stdout",
     "output_type": "stream",
     "text": [
      "hello everyone!\n",
      "\n",
      "hello everyone!\n",
      "\n",
      "hello everyone!\n",
      "\n",
      "hello everyone!\n",
      "\n",
      "hello everyone!\n",
      "\n",
      "hello everyone!\n",
      "\n",
      "hello everyone!\n",
      "\n",
      "hello everyone!\n",
      "\n",
      "hello everyone!\n",
      "\n",
      "hello everyone!\n",
      "\n",
      "hello everyone!\n",
      "\n",
      "hello everyone!\n",
      "\n",
      "hello everyone!\n",
      "\n",
      "hello everyone!\n",
      "\n",
      "hello everyone!\n",
      "\n",
      "hello everyone!\n",
      "\n"
     ]
    },
    {
     "data": {
      "text/plain": [
       "16"
      ]
     },
     "execution_count": 56,
     "metadata": {},
     "output_type": "execute_result"
    }
   ],
   "source": [
    "#indent error \n",
    "\n",
    "message= 'hello everyone!\\n'\n",
    "for repeat in message:   \n",
    "    print(message)\n",
    "len(message)"
   ]
  },
  {
   "cell_type": "code",
   "execution_count": null,
   "metadata": {},
   "outputs": [],
   "source": []
  }
 ],
 "metadata": {
  "kernelspec": {
   "display_name": "Python 3",
   "language": "python",
   "name": "python3"
  },
  "language_info": {
   "codemirror_mode": {
    "name": "ipython",
    "version": 3
   },
   "file_extension": ".py",
   "mimetype": "text/x-python",
   "name": "python",
   "nbconvert_exporter": "python",
   "pygments_lexer": "ipython3",
   "version": "3.7.4"
  }
 },
 "nbformat": 4,
 "nbformat_minor": 2
}
